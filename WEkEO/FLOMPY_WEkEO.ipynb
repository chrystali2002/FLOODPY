{
 "cells": [
  {
   "cell_type": "markdown",
   "metadata": {},
   "source": [
    "<img src='./images/LogoWekeo.png' align='left' width='17%'></img>\n",
    "<img src=\"./images/Flompy_logo_text.png\" align='right' width='30%'/>"
   ]
  },
  {
   "cell_type": "markdown",
   "metadata": {},
   "source": [
    "**Authors:**  Olympia Gounari, Alexandros Falagas, Kleanthis Karamvasis <br>\n",
    "**Copyright:** 2021-2022 Kleanthis Karamvasis <br>\n",
    "**License:** GPLv3"
   ]
  },
  {
   "cell_type": "markdown",
   "metadata": {},
   "source": [
    "<div class=\"alert alert-block alert-success\">\n",
    "<h3>FLOODWATER MAPPING & EXTRACTION OF FLOOD-AFFECTED AGRICULTURAL FIELDS</h3></div>"
   ]
  },
  {
   "cell_type": "markdown",
   "metadata": {},
   "source": [
    "# NOTEBOOK INTRODUCTION\n",
    "\n",
    "### Data used\n",
    "\n",
    "| Product Description | Data Store collection ID| Product Navigator | WEkEO HDA ID | WEkEO metadata |\n",
    "|:--------------------:|:-----------------------:|:-------------:|:-----------------:|:-----------------:|\n",
    "| Sentinel-1 GRD | EO:EUM:DAT:0411 | <a href=\"https://navigator.eumetsat.int/product/EO:EUM:DAT:SENTINEL-3:SL_1_RBT___NTC?query=SLSTR&s=advanced\" target=\"_blank\">link</a> | EO:EUM:DAT:SENTINEL-3:SL_1_RBT___ | <a href=\"https://www.wekeo.eu/data?view=dataset&dataset=EO%3AEUM%3ADAT%3ASENTINEL-3%3ASL_1_RBT___&initial=1\" target=\"_blank\">link</a> |\n",
    "| ERA5 Model | EO:EUM:DAT:0411 | <a href=\"https://navigator.eumetsat.int/product/EO:EUM:DAT:SENTINEL-3:SL_1_RBT___NTC?query=SLSTR&s=advanced\" target=\"_blank\">link</a> | EO:EUM:DAT:SENTINEL-3:SL_1_RBT___ | <a href=\"https://www.wekeo.eu/data?view=dataset&dataset=EO%3AEUM%3ADAT%3ASENTINEL-3%3ASL_1_RBT___&initial=1\" target=\"_blank\">link</a> |\n",
    "| Sentinel-2 | EO:EUM:DAT:0411 | <a href=\"https://navigator.eumetsat.int/product/EO:EUM:DAT:SENTINEL-3:SL_1_RBT___NTC?query=SLSTR&s=advanced\" target=\"_blank\">link</a> | EO:EUM:DAT:SENTINEL-3:SL_1_RBT___ | <a href=\"https://www.wekeo.eu/data?view=dataset&dataset=EO%3AEUM%3ADAT%3ASENTINEL-3%3ASL_1_RBT___&initial=1\" target=\"_blank\">link</a> |"
   ]
  },
  {
   "cell_type": "markdown",
   "metadata": {},
   "source": [
    "### Learning outcomes\n",
    "At the end of this notebook you will be able to;\n",
    "* Identify flooded agricultural regions\n",
    "* Identify delineated flood-affected fields\n",
    "* Identify cultivated and non-cultivated flood-affected fields"
   ]
  },
  {
   "cell_type": "markdown",
   "metadata": {},
   "source": [
    "<div class=\"alert alert-danger\" role=\"alert\">\n",
    "\n",
    "Be aware that the estimated run time of the notebook is ~ 30 min\n",
    "\n",
    "</div>"
   ]
  },
  {
   "cell_type": "markdown",
   "metadata": {},
   "source": [
    "### Outline\n",
    "\n",
    "The FLOMPY - <b>FLOod Mapping PYthon toolbox</b> is a free and open-source python toolbox for mapping of floodwater. FLOMPY requires a specified time of interest related to the flood event and corresponding geographical boundaries and generates:\n",
    "- <b>Floodwater map</b>\n",
    "- <b>Cultivated and non-cultivated delineated flood-affected fields</b>\n",
    "\n",
    "Floods are considered the second gravest disaster for the agricultural sector. The increasing intensity and the frequency of flood events can result to significant yield losses. In the present notebook we present a methodological pipeline with the following steps:\n",
    "1. Extraction of flooded area based on change detection approach using multitemporal Sentinel-1 intensity observations and precipitation data (ERA5 model). More info can be found at [1]\n",
    "2. Delineation of agricultural fields by combining results from a classical edge detection filtering approach on multitemporal Sentinel-2 data [2] and a U-Net deep learning architecture [3].\n",
    "3. Characterization of agricultural field to cultivated and non-cultivated based on their temporal behaviour based on multispectral Sentinel-2 data [4]\n",
    "\n",
    "We believe that the produced maps with delineated flood-affected agricultural fields can be helpful for governments, insurers and disaster response agencies to improve flood risk assessment, relief targeting, and ultimately to protect climate-vulnerable communities from floods. \n",
    "\n",
    "References:\n",
    "\n",
    "<font size=\"1\"> [1] Karamvasis K, Karathanassi V. FLOMPY: An Open-Source Toolbox for Floodwater Mapping Using Sentinel-1 Intensity Time Series. Water. 2021; 13(21):2943. https://doi.org/10.3390/w13212943\n",
    "    \n",
    "[2] Yan L, Roy D.P. Automated crop field extraction from multi-temporal Web Enabled Landsat Data. Remote Sensing of Environment. 2014; 144. https://doi.org/10.1016/j.rse.2014.01.006.\n",
    "\n",
    "[3] Floor S. et. al. Automatic Delineation of Agricultural Fields from Sentinel-2 Images.\n",
    "https://github.com/resingm/field-boundary-delineation\n",
    "\n",
    "[4] Gounari 0., Falagas A., Karamvasis K., Tsironis V., Karathanassi V., Karantzalos K.: Floodwater Mapping & Extraction of Flood-Affected Agricultural Fields. Living Planet Symposium Bonn 23-27 May 2022. https://drive.google.com/file/d/1HiGkep3wx45gAQT6Kq34CdECMpQc8GUV/view?usp=sharing</font>\n"
   ]
  },
  {
   "cell_type": "markdown",
   "metadata": {},
   "source": [
    "<div class=\"alert alert-info\" role=\"alert\">\n",
    "    \n",
    "## <a id='TOC_TOP'></a>Contents\n",
    "\n",
    "</div>\n",
    "    \n",
    "[1. Installation Notes](#section1)\n",
    "\n",
    "[2. Estimation of Flooded Agricultural Area](#section2)\n",
    "\n",
    "[3. Estimation of Cultivated and Non-Cultivated Delineated Flood-Affected Fields](#section3)\n",
    "\n",
    "[4. Interactive Plotting](#section4)\n",
    "\n",
    "<hr>"
   ]
  },
  {
   "cell_type": "markdown",
   "metadata": {},
   "source": [
    "Our project uses Sentinel-1, digital elevation model and total precipitation ERA5 dataset to detect a flooded agricultural area.\n",
    "\n",
    "Sentinel-2 and spectral indices, like NDVI, are used to delineate agricultural field boundaries and then characterize them as cultivated or not-cultivated during the defined temporal period.\n",
    "\n",
    "The final product is an interactive map depicting **flooded area**, **flooded agricultural fields** and our **estimation concerning their damage** (cultivated or not-cultivated)."
   ]
  },
  {
   "cell_type": "markdown",
   "metadata": {},
   "source": [
    "<div class=\"alert alert-info\" role=\"alert\">\n",
    "\n",
    "## <a id='section1'></a>1. Installation Notes\n",
    "[Back to top](#TOC_TOP)\n",
    "\n",
    "</div>\n"
   ]
  },
  {
   "cell_type": "markdown",
   "metadata": {},
   "source": [
    "### <a id='search_download'></a>1.1 Setting up FLOMPY Environment"
   ]
  },
  {
   "cell_type": "markdown",
   "metadata": {},
   "source": [
    "To install FLOMPY software and the required dependencies go to:\n",
    "\n",
    "`File->New Laucher->Terminal`\n",
    "\n",
    "and run:\n",
    "\n",
    "1. `git clone -b notebook https://github.com/Olyna/FLOMPY.git`\n",
    "\n",
    "2. `$cd FLOMPY/WEkEO`\n",
    "\n",
    "3. `chmod +x installation.sh`\n",
    "\n",
    "4. `$./installation.sh`\n",
    "\n",
    "After the installation, restart current kernel (`Kernel->Restart Kernel`) to get the updates and continue with [HDA API Setup](#hda_setup)."
   ]
  },
  {
   "cell_type": "markdown",
   "metadata": {},
   "source": [
    "### <a id='search_download'></a>1.2 Setting up Wekeo HDA API\n",
    "Fill your WEKEO **username** and your **password** in the following variables. If you don't have any WEKEO credentials, please create an account from [here](https://my.wekeo.eu/web/guest/user-registration).\n",
    "\n",
    "Your creadentials are useful to authenticate in order to execute calls to the HDA API."
   ]
  },
  {
   "cell_type": "code",
   "execution_count": null,
   "metadata": {},
   "outputs": [],
   "source": [
    "import base64\n",
    "import requests\n",
    "import json\n",
    "\n",
    "user = 'olyg'\n",
    "password = '+3+r15TETRIS'\n",
    "credentials = {\n",
    "    'url':'https://wekeo-broker.apps.mercator.dpi.wekeo.eu/databroker',\n",
    "    'user':user,\n",
    "    'password':password,}\n",
    "encoded = base64.b64encode(f\"{credentials['user']}:{credentials['password']}\".encode('ascii')).decode(\"utf-8\")\n",
    "r = requests.get(f\"{credentials['url']}/gettoken\",\n",
    "                 headers = {\"authorization\":f\"Basic {encoded}\"})\n",
    "response = r.json()\n",
    "r = requests.put(f\"{credentials['url']}/termsaccepted/Copernicus_General_License\",\n",
    "                 headers = {\"accept\":\"application/json\", \"authorization\":response['access_token']},\n",
    "                 data = {\"accepted\":\"true\"})\n",
    "filepath = \"/home/jovyan/.hdarc\"\n",
    "with open(filepath, 'w') as file:\n",
    "    for key, value in credentials.items(): \n",
    "        file.write('%s:%s\\n' % (key, value))"
   ]
  },
  {
   "cell_type": "markdown",
   "metadata": {},
   "source": [
    "<div class=\"alert alert-info\" role=\"alert\">\n",
    "\n",
    "## <a id='section2'></a>2. Estimation of Flooded Agricultural Area\n",
    "[Back to top](#TOC_TOP)\n",
    "</div>"
   ]
  },
  {
   "cell_type": "markdown",
   "metadata": {},
   "source": [
    "### <a id='search_download'></a> 2.1 Insert Python Modules"
   ]
  },
  {
   "cell_type": "code",
   "execution_count": null,
   "metadata": {},
   "outputs": [],
   "source": [
    "import os\n",
    "import glob\n",
    "import numpy as np\n",
    "import rasterio as rio\n",
    "import rasterio.mask\n",
    "import geopandas as gpd\n",
    "import matplotlib.pyplot as plt\n",
    "import folium\n",
    "from branca.element import Template, MacroElement\n",
    "import warnings\n",
    "warnings.filterwarnings('ignore')\n",
    "# flompy and wekeo libraries\n",
    "from flompy.FLOMPYapp import FloodwaterEstimation\n",
    "from flompy.Download import Sentinel_1_download, Sentinel_2_download\n",
    "import wekeo_utils, retrieve"
   ]
  },
  {
   "cell_type": "markdown",
   "metadata": {},
   "source": [
    "### <a id='search_download'></a> 2.2 Reading Configuration File"
   ]
  },
  {
   "cell_type": "markdown",
   "metadata": {},
   "source": [
    "<div class=\"alert alert-danger\" role=\"alert\">\n",
    "\n",
    "<font size=\"3\">In case you want to generate Flompy's outputs for a <b>different</b> flood event, please update the configuration file located at your wekeo home directory: /home/your user name/FLOMPY/FLOMPYapp_template.cfg\n",
    "\n",
    "More information can be found in the [README](https://github.com/Olyna/FLOMPY/blob/notebook/README.md) file.\n",
    "</font>\n",
    "</div>\n"
   ]
  },
  {
   "cell_type": "code",
   "execution_count": null,
   "metadata": {
    "scrolled": true
   },
   "outputs": [],
   "source": [
    "app = FloodwaterEstimation(customTemplateFile = os.path.join(USER_DIR, 'FLOMPY', 'FLOMPYapp_template.cfg'))\n",
    "app.startup()"
   ]
  },
  {
   "cell_type": "markdown",
   "metadata": {},
   "source": [
    "### <a id='search_download'></a>2.3 Downloading ERA5 and Sentinel-1 datasets using HDA API\n"
   ]
  },
  {
   "cell_type": "code",
   "execution_count": null,
   "metadata": {},
   "outputs": [],
   "source": [
    "# downloading era5 data\n",
    "\n",
    "# Function `retrieve.era5_data()` retrieves dataset\n",
    "# *EO:ECMWF:DAT:REANALYSIS_ERA5_SINGLE_LEVELS* by forming\n",
    "# an HDA API request, based on spatial and temporal criteria.\n",
    "# Especially, collects data by starting 20 dates before the \n",
    "# flood event and ending 3 days after the flood event.\n",
    "retrieve.era5_data(app.bbox, app.flood_datetime, app.start_datetime, app.end_datetime, app.ERA5_dir)\n",
    "\n",
    "# quering Sentinel-1 data\n",
    "Sentinel_1_download.Download_S1_data(\n",
    "    scihub_accounts = app.credentials,\n",
    "    S1_GRD_dir = app.S1_GRD_dir,\n",
    "    geojson_S1 = app.geojson_S1,\n",
    "    Start_time = app.Start_time,\n",
    "    End_time = app.End_time,\n",
    "    relOrbit = app.relOrbit,\n",
    "    flood_datetime = app.flood_datetime,\n",
    "    time_sleep=10,\n",
    "    max_tries=1,\n",
    "    download=False\n",
    ")\n",
    "# Downloading Sentinel-1 data\n",
    "retrieve.S1_data(app.bbox, app.S1_GRD_dir)"
   ]
  },
  {
   "cell_type": "markdown",
   "metadata": {},
   "source": [
    "### <a id='search_download'></a> 2.4 Extraction of Floodwater map using change detection analysis of multitemporal Sentinel-1 data"
   ]
  },
  {
   "cell_type": "markdown",
   "metadata": {},
   "source": [
    "Preprocessing"
   ]
  },
  {
   "cell_type": "code",
   "execution_count": null,
   "metadata": {},
   "outputs": [],
   "source": [
    "app.run_preprocessing_S1_data('Preprocessing_S1_data')"
   ]
  },
  {
   "cell_type": "markdown",
   "metadata": {},
   "source": [
    "Statistical Change detection analysis"
   ]
  },
  {
   "cell_type": "code",
   "execution_count": null,
   "metadata": {
    "scrolled": true
   },
   "outputs": [],
   "source": [
    "app.run_multitemporal_statistics('Statistical_analysis')"
   ]
  },
  {
   "cell_type": "markdown",
   "metadata": {},
   "source": [
    "Identification of Flooded agricultural regions"
   ]
  },
  {
   "cell_type": "code",
   "execution_count": null,
   "metadata": {},
   "outputs": [],
   "source": [
    "app.run_get_flood_map('Floodwater_classification')"
   ]
  },
  {
   "cell_type": "markdown",
   "metadata": {},
   "source": [
    "<div class=\"alert alert-danger\" role=\"alert\">\n",
    "<font size=\"3\">Free up disk. Deleting all Sentinel-1 data in order to have enough memory space due to 10 Gb available space\n",
    "</font>\n",
    "</div>"
   ]
  },
  {
   "cell_type": "code",
   "execution_count": null,
   "metadata": {},
   "outputs": [],
   "source": [
    "! rm *.zip"
   ]
  },
  {
   "cell_type": "markdown",
   "metadata": {},
   "source": [
    "<div class=\"alert alert-info\" role=\"alert\">\n",
    "\n",
    "## <a id='section3'></a>3. Estimation of Cultivated and Non-Cultivated Delineated Flood-Affected Fields\n",
    "[Back to top](#TOC_TOP)\n",
    "</div>"
   ]
  },
  {
   "cell_type": "markdown",
   "metadata": {},
   "source": [
    "### <a id='search_download'></a> 3.1 Downloading Sentinel-2 using HDA API"
   ]
  },
  {
   "cell_type": "code",
   "execution_count": null,
   "metadata": {
    "scrolled": true
   },
   "outputs": [],
   "source": [
    "# quering Sentinel-2 data\n",
    "Sentinel_2_download.Download_S2_data(\n",
    "    AOI = app.geojson_S1,\n",
    "    user = list(app.credentials.keys())[0],\n",
    "    passwd = list(app.credentials.values())[0],\n",
    "    Start_time = app.Start_time,\n",
    "    End_time = app.End_time,\n",
    "    write_dir = app.S2_dir,\n",
    "    product = 'S2MSI2A',\n",
    "    download = False,\n",
    "    cloudcoverage = 100,\n",
    "    to_file = True)\n",
    "\n",
    "# downloading Sentinel-2 data\n",
    "retrieve.S2_data(app.bbox, app.S2_dir)"
   ]
  },
  {
   "cell_type": "markdown",
   "metadata": {},
   "source": [
    "### <a id='search_download'></a> 3.2 Crop Field Delineation & Characterization as Cultivated or Not-Cultivated"
   ]
  },
  {
   "cell_type": "markdown",
   "metadata": {},
   "source": [
    "Method `app.run_crop_delineation()` consists of the following steps:\n",
    "\n",
    "1. Determine agricultural regions based on [ESA WorldCover (2020)](https://worldcover2020.esa.int/) map, with 10m spatial resolution. Mask urban regions, forests and water bodies and retain only the agricultural regions.\n",
    "\n",
    "    Also, Sentinel-2 L2A Scene Classification products are used in order to mask cloudy, shadowed or saturated pixels. \n",
    "\n",
    "2. Construct edge intensity and crop intensity maps using NDVI and edge detection filters, based on [L. Yan and D.P. Roy. 2014](https://doi.org/10.1016/j.rse.2014.01.006).\n",
    "\n",
    "3. Determine crop-edges using a pre-trained U-Net model.\n",
    "\n",
    "4. Combine the above raster products, execute some morphological filters and vectorize the result, to produce a crop-instance vector product.\n",
    "\n",
    "5. For a field to be considered as flooded, more than 30% of its area must intersect with the flood.\n",
    "\n",
    "6. Characterize flooded fields as cultivated or not-cultivated, by appling combined thresholdind to edge intensity and crop inyensity maps."
   ]
  },
  {
   "cell_type": "code",
   "execution_count": null,
   "metadata": {
    "scrolled": true
   },
   "outputs": [],
   "source": [
    "app.run_crop_delineation('Crop_delineation')"
   ]
  },
  {
   "cell_type": "markdown",
   "metadata": {},
   "source": [
    "<div class=\"alert alert-info\" role=\"alert\">\n",
    "\n",
    "## <a id='section4'></a>4. Interactive Plotting\n",
    "[Back to top](#TOC_TOP)\n",
    "</div>\n",
    "\n"
   ]
  },
  {
   "cell_type": "markdown",
   "metadata": {},
   "source": [
    "### <a id='search_download'></a> 4.1 Flooded Agricultural Map"
   ]
  },
  {
   "cell_type": "code",
   "execution_count": null,
   "metadata": {},
   "outputs": [],
   "source": [
    "# Read AOI\n",
    "aoi = gpd.read_file(app.geojson_S1)\n",
    "# AOI bounds as map bounds\n",
    "left, bottom, right, top = aoi.total_bounds\n",
    "\n",
    "# Read flood image using AOI\n",
    "flood_fpath = glob.glob(os.path.join(app.Results_dir, 'Flood_map_*.tif'))[0]\n",
    "with rio.open(flood_fpath) as src:\n",
    "    flood, out_transform = rasterio.mask.mask(src, aoi.geometry, crop=True)\n",
    "    flood = flood[0,:,:]\n",
    "# Create a map located to the AOI centroid\n",
    "m = folium.Map(\n",
    "    tiles='https://server.arcgisonline.com/ArcGIS/rest/services/World_Imagery/MapServer/tile/{z}/{y}/{x}',\n",
    "    attr = 'Esri',\n",
    "    location=[aoi.centroid.y[0], aoi.centroid.x[0]],\n",
    "    zoom_start=13)\n",
    "\n",
    "# Define map bounds\n",
    "map_bounds = [[bottom, left], [top, right]]\n",
    "\n",
    "# Add flood image to the map, make flood background transparent\n",
    "raster_to_coloridx = {1: (0.0, 0.0, 1.0, 1.0),\n",
    "                      0: (0.0, 0.0, 0.0, 0.0)}\n",
    "\n",
    "m.add_child(folium.raster_layers.ImageOverlay(flood, \n",
    "                                             opacity=0.5,\n",
    "                                             bounds=map_bounds,\n",
    "                                             colormap=lambda x: raster_to_coloridx[x]))\n",
    "m"
   ]
  },
  {
   "cell_type": "markdown",
   "metadata": {},
   "source": [
    "### <a id='search_download'></a> 4.2 Delineated Flooded Fields, characterized as Cultivated or Not-Cultivated"
   ]
  },
  {
   "cell_type": "code",
   "execution_count": null,
   "metadata": {},
   "outputs": [],
   "source": [
    "# Read AOI\n",
    "aoi = gpd.read_file(app.geojson_S1)\n",
    "# AOI bounds as map bounds\n",
    "left, bottom, right, top = aoi.total_bounds\n",
    "\n",
    "# Read flood image using AOI\n",
    "flood_fpath = glob.glob(os.path.join(app.Results_dir, 'Flood_map_*.tif'))[0]\n",
    "with rio.open(flood_fpath) as src:\n",
    "    flood, out_transform = rasterio.mask.mask(src, aoi.geometry, crop=True)\n",
    "    flood = flood[0,:,:]\n",
    "# Create a map located to the AOI centroid\n",
    "m = folium.Map(\n",
    "    tiles='https://server.arcgisonline.com/ArcGIS/rest/services/World_Imagery/MapServer/tile/{z}/{y}/{x}',\n",
    "    attr = 'Esri',\n",
    "    location=[aoi.centroid.y[0], aoi.centroid.x[0]],\n",
    "    zoom_start=13)\n",
    "\n",
    "# Define map bounds\n",
    "map_bounds = [[bottom, left], [top, right]]\n",
    "\n",
    "# Add flood image to the map, make flood background transparent\n",
    "raster_to_coloridx = {1: (0.0, 0.0, 1.0, 1.0),\n",
    "                      0: (0.0, 0.0, 0.0, 0.0)}\n",
    "\n",
    "m.add_child(folium.raster_layers.ImageOverlay(flood, \n",
    "                                             opacity=0.5,\n",
    "                                             bounds=map_bounds,\n",
    "                                             colormap=lambda x: raster_to_coloridx[x]))\n",
    "m"
   ]
  },
  {
   "cell_type": "code",
   "execution_count": null,
   "metadata": {},
   "outputs": [],
   "source": [
    "# Read NDVI image\n",
    "ndvi, ndvi_bounds = wekeo_utils.ndvi_wgs84(app)\n",
    "\n",
    "# Read vector delineated crop field boundaries\n",
    "field_bounds_fpath = glob.glob(os.path.join(USER_DIR, app.projectname, 'Results_crop_delineation', 'flooded_fields__*.shp'))[0]\n",
    "field_bounds = gpd.read_file(field_bounds_fpath)\n",
    "# Change transformation to Geographic WGS'84\n",
    "field_bounds = field_bounds.to_crs(4326)\n",
    "\n",
    "m = folium.Map(\n",
    "    tiles='https://server.arcgisonline.com/ArcGIS/rest/services/World_Imagery/MapServer/tile/{z}/{y}/{x}',\n",
    "    attr = 'Esri',\n",
    "    location=[aoi.centroid.y[0], aoi.centroid.x[0]],\n",
    "    zoom_start=13)\n",
    "\n",
    "def colorize(img, cmap='gray'):\n",
    "    img_normed =  (img - np.nanmin(img)) / (np.nanmax(img) - np.nanmin(img)) * 255     \n",
    "    cm = plt.cm.get_cmap(cmap)    \n",
    "    return cm(img_normed.astype(np.uint8))  \n",
    "\n",
    "# Add NDVI image to the map\n",
    "m.add_child(folium.raster_layers.ImageOverlay(ndvi,\n",
    "                                             bounds=ndvi_bounds,\n",
    "                                             ))\n",
    "\n",
    "# Add delineated flooded fields to map\n",
    "def style_fn(feature):\n",
    "    vector_to_coloridx = {\n",
    "        'cultivated': {'fillColor':'#008000', 'fillOpacity':0.6, 'color':'#008000'},\n",
    "        'not_cultivated': {'fillColor':'#FF0000', 'fillOpacity':0.6, 'color':'#FF0000'}\n",
    "    }\n",
    "    cultivation_status = feature['properties']['status']\n",
    "    return vector_to_coloridx[cultivation_status]\n",
    "\n",
    "m.add_child(folium.GeoJson(field_bounds.__geo_interface__, style_function=style_fn,))\n",
    "\n",
    "# Add a Map Legend\n",
    "template = wekeo_utils.template()\n",
    "macro = MacroElement()\n",
    "macro._template = Template(template)\n",
    "\n",
    "m.get_root().add_child(macro)\n",
    "m"
   ]
  },
  {
   "cell_type": "markdown",
   "metadata": {},
   "source": [
    "<div class=\"alert alert-block alert-warning\">\n",
    "\n",
    "### Challenge:\n",
    "<font size=\"3\"> We encourage the user to analyse more flood events by updating parameters in the configuration file located at the wekeo home directory: /home/your-user-name/FLOMPY/FLOMPYapp_template.cfg\n",
    "\n",
    "More information regarding the configuration parameters can be found in the /home/your-user-name/FLOMPY/README.md file.\n",
    "</font>\n",
    "\n",
    "<div>"
   ]
  },
  {
   "cell_type": "code",
   "execution_count": null,
   "metadata": {},
   "outputs": [],
   "source": []
  }
 ],
 "metadata": {
  "kernelspec": {
   "display_name": "Python 3 (ipykernel)",
   "language": "python",
   "name": "python3"
  },
  "language_info": {
   "codemirror_mode": {
    "name": "ipython",
    "version": 3
   },
   "file_extension": ".py",
   "mimetype": "text/x-python",
   "name": "python",
   "nbconvert_exporter": "python",
   "pygments_lexer": "ipython3",
   "version": "3.8.6"
  },
  "vscode": {
   "interpreter": {
    "hash": "2cbd12cf15904f49236868e52223ac6dba66d2e1778b7a5fa8a6c3a2f0b40e11"
   }
  }
 },
 "nbformat": 4,
 "nbformat_minor": 4
}
