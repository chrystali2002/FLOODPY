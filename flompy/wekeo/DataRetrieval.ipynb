{
 "cells": [
  {
   "cell_type": "code",
   "execution_count": 1,
   "metadata": {},
   "outputs": [
    {
     "name": "stdout",
     "output_type": "stream",
     "text": [
      "Obtaining file:///home/olyna/Documents/Github/FLOMPY\n",
      "  Preparing metadata (setup.py) ... \u001b[?25ldone\n",
      "\u001b[?25hRequirement already satisfied: wheel in /home/olyna/Documents/RSLab/FLOMPY/venv/lib/python3.6/site-packages (from flompy==1.0.0) (0.37.1)\n",
      "Requirement already satisfied: cdsapi in /home/olyna/Documents/RSLab/FLOMPY/venv/lib/python3.6/site-packages (from flompy==1.0.0) (0.5.1)\n",
      "Requirement already satisfied: pandas in /home/olyna/Documents/RSLab/FLOMPY/venv/lib/python3.6/site-packages (from flompy==1.0.0) (1.1.5)\n",
      "Requirement already satisfied: geopandas in /home/olyna/Documents/RSLab/FLOMPY/venv/lib/python3.6/site-packages (from flompy==1.0.0) (0.9.0)\n",
      "Requirement already satisfied: numpy in /home/olyna/Documents/RSLab/FLOMPY/venv/lib/python3.6/site-packages (from flompy==1.0.0) (1.19.5)\n",
      "Requirement already satisfied: netCDF4 in /home/olyna/Documents/RSLab/FLOMPY/venv/lib/python3.6/site-packages (from flompy==1.0.0) (1.6.0)\n",
      "Requirement already satisfied: tqdm in /home/olyna/Documents/RSLab/FLOMPY/venv/lib/python3.6/site-packages (from flompy==1.0.0) (4.64.0)\n",
      "Requirement already satisfied: requests in /home/olyna/Documents/RSLab/FLOMPY/venv/lib/python3.6/site-packages (from flompy==1.0.0) (2.27.1)\n",
      "Requirement already satisfied: sentinelsat in /home/olyna/Documents/RSLab/FLOMPY/venv/lib/python3.6/site-packages (from flompy==1.0.0) (1.1.1)\n",
      "Requirement already satisfied: scipy in /home/olyna/Documents/RSLab/FLOMPY/venv/lib/python3.6/site-packages (from flompy==1.0.0) (1.5.4)\n",
      "Requirement already satisfied: sklearn in /home/olyna/Documents/RSLab/FLOMPY/venv/lib/python3.6/site-packages (from flompy==1.0.0) (0.0)\n",
      "Requirement already satisfied: shapely in /home/olyna/Documents/RSLab/FLOMPY/venv/lib/python3.6/site-packages (from flompy==1.0.0) (1.8.2)\n",
      "Requirement already satisfied: h5py in /home/olyna/Documents/RSLab/FLOMPY/venv/lib/python3.6/site-packages (from flompy==1.0.0) (3.1.0)\n",
      "Requirement already satisfied: gdal==2.2.3 in /home/olyna/Documents/RSLab/FLOMPY/venv/lib/python3.6/site-packages (from flompy==1.0.0) (2.2.3)\n",
      "Requirement already satisfied: scikit-image in /home/olyna/Documents/RSLab/FLOMPY/venv/lib/python3.6/site-packages (from flompy==1.0.0) (0.17.2)\n",
      "Requirement already satisfied: joblib in /home/olyna/Documents/RSLab/FLOMPY/venv/lib/python3.6/site-packages (from flompy==1.0.0) (1.1.0)\n",
      "Requirement already satisfied: matplotlib in /home/olyna/Documents/RSLab/FLOMPY/venv/lib/python3.6/site-packages (from flompy==1.0.0) (3.3.4)\n",
      "Requirement already satisfied: richdem in /home/olyna/Documents/RSLab/FLOMPY/venv/lib/python3.6/site-packages (from flompy==1.0.0) (0.3.4)\n",
      "Requirement already satisfied: pyproj in /home/olyna/Documents/RSLab/FLOMPY/venv/lib/python3.6/site-packages (from flompy==1.0.0) (3.0.1)\n",
      "Requirement already satisfied: seaborn in /home/olyna/Documents/RSLab/FLOMPY/venv/lib/python3.6/site-packages (from flompy==1.0.0) (0.11.2)\n",
      "Requirement already satisfied: rasterio in /home/olyna/Documents/RSLab/FLOMPY/venv/lib/python3.6/site-packages (from flompy==1.0.0) (1.2.10)\n",
      "Requirement already satisfied: rasterstats in /home/olyna/Documents/RSLab/FLOMPY/venv/lib/python3.6/site-packages (from flompy==1.0.0) (0.17.0)\n",
      "Requirement already satisfied: tensorflow in /home/olyna/Documents/RSLab/FLOMPY/venv/lib/python3.6/site-packages (from flompy==1.0.0) (2.6.2)\n",
      "Requirement already satisfied: keras_unet in /home/olyna/Documents/RSLab/FLOMPY/venv/lib/python3.6/site-packages (from flompy==1.0.0) (0.1.2)\n",
      "Requirement already satisfied: awscli in /home/olyna/Documents/RSLab/FLOMPY/venv/lib/python3.6/site-packages (from flompy==1.0.0) (1.24.10)\n",
      "Requirement already satisfied: patchify in /home/olyna/Documents/RSLab/FLOMPY/venv/lib/python3.6/site-packages (from flompy==1.0.0) (0.2.2)\n",
      "Requirement already satisfied: docutils<0.17,>=0.10 in /home/olyna/Documents/RSLab/FLOMPY/venv/lib/python3.6/site-packages (from awscli->flompy==1.0.0) (0.16)\n",
      "Requirement already satisfied: rsa<4.8,>=3.1.2 in /home/olyna/Documents/RSLab/FLOMPY/venv/lib/python3.6/site-packages (from awscli->flompy==1.0.0) (4.7.2)\n",
      "Requirement already satisfied: colorama<0.4.5,>=0.2.5 in /home/olyna/Documents/RSLab/FLOMPY/venv/lib/python3.6/site-packages (from awscli->flompy==1.0.0) (0.4.4)\n",
      "Requirement already satisfied: s3transfer<0.6.0,>=0.5.0 in /home/olyna/Documents/RSLab/FLOMPY/venv/lib/python3.6/site-packages (from awscli->flompy==1.0.0) (0.5.2)\n",
      "Requirement already satisfied: botocore==1.26.10 in /home/olyna/Documents/RSLab/FLOMPY/venv/lib/python3.6/site-packages (from awscli->flompy==1.0.0) (1.26.10)\n",
      "Requirement already satisfied: PyYAML<5.5,>=3.10 in /home/olyna/Documents/RSLab/FLOMPY/venv/lib/python3.6/site-packages (from awscli->flompy==1.0.0) (5.4.1)\n",
      "Requirement already satisfied: python-dateutil<3.0.0,>=2.1 in /home/olyna/Documents/RSLab/FLOMPY/venv/lib/python3.6/site-packages (from botocore==1.26.10->awscli->flompy==1.0.0) (2.8.2)\n",
      "Requirement already satisfied: urllib3<1.27,>=1.25.4 in /home/olyna/Documents/RSLab/FLOMPY/venv/lib/python3.6/site-packages (from botocore==1.26.10->awscli->flompy==1.0.0) (1.26.11)\n",
      "Requirement already satisfied: jmespath<2.0.0,>=0.7.1 in /home/olyna/Documents/RSLab/FLOMPY/venv/lib/python3.6/site-packages (from botocore==1.26.10->awscli->flompy==1.0.0) (0.10.0)\n",
      "Requirement already satisfied: certifi>=2017.4.17 in /home/olyna/Documents/RSLab/FLOMPY/venv/lib/python3.6/site-packages (from requests->flompy==1.0.0) (2022.6.15)\n",
      "Requirement already satisfied: idna<4,>=2.5 in /home/olyna/Documents/RSLab/FLOMPY/venv/lib/python3.6/site-packages (from requests->flompy==1.0.0) (3.3)\n",
      "Requirement already satisfied: charset-normalizer~=2.0.0 in /home/olyna/Documents/RSLab/FLOMPY/venv/lib/python3.6/site-packages (from requests->flompy==1.0.0) (2.0.12)\n",
      "Requirement already satisfied: fiona>=1.8 in /home/olyna/Documents/RSLab/FLOMPY/venv/lib/python3.6/site-packages (from geopandas->flompy==1.0.0) (1.8.21)\n",
      "Requirement already satisfied: pytz>=2017.2 in /home/olyna/Documents/RSLab/FLOMPY/venv/lib/python3.6/site-packages (from pandas->flompy==1.0.0) (2022.1)\n",
      "Requirement already satisfied: cached-property in /home/olyna/Documents/RSLab/FLOMPY/venv/lib/python3.6/site-packages (from h5py->flompy==1.0.0) (1.5.2)\n",
      "Requirement already satisfied: pyparsing!=2.0.4,!=2.1.2,!=2.1.6,>=2.0.3 in /home/olyna/Documents/RSLab/FLOMPY/venv/lib/python3.6/site-packages (from matplotlib->flompy==1.0.0) (3.0.9)\n",
      "Requirement already satisfied: cycler>=0.10 in /home/olyna/Documents/RSLab/FLOMPY/venv/lib/python3.6/site-packages (from matplotlib->flompy==1.0.0) (0.11.0)\n",
      "Requirement already satisfied: kiwisolver>=1.0.1 in /home/olyna/Documents/RSLab/FLOMPY/venv/lib/python3.6/site-packages (from matplotlib->flompy==1.0.0) (1.3.1)\n",
      "Requirement already satisfied: pillow>=6.2.0 in /home/olyna/Documents/RSLab/FLOMPY/venv/lib/python3.6/site-packages (from matplotlib->flompy==1.0.0) (8.4.0)\n",
      "Requirement already satisfied: cftime in /home/olyna/Documents/RSLab/FLOMPY/venv/lib/python3.6/site-packages (from netCDF4->flompy==1.0.0) (1.6.0)\n",
      "Requirement already satisfied: networkx>=2.0 in /home/olyna/Documents/RSLab/FLOMPY/venv/lib/python3.6/site-packages (from scikit-image->flompy==1.0.0) (2.5.1)\n",
      "Requirement already satisfied: PyWavelets>=1.1.1 in /home/olyna/Documents/RSLab/FLOMPY/venv/lib/python3.6/site-packages (from scikit-image->flompy==1.0.0) (1.1.1)\n",
      "Requirement already satisfied: tifffile>=2019.7.26 in /home/olyna/Documents/RSLab/FLOMPY/venv/lib/python3.6/site-packages (from scikit-image->flompy==1.0.0) (2020.9.3)\n",
      "Requirement already satisfied: imageio>=2.3.0 in /home/olyna/Documents/RSLab/FLOMPY/venv/lib/python3.6/site-packages (from scikit-image->flompy==1.0.0) (2.15.0)\n",
      "Requirement already satisfied: affine in /home/olyna/Documents/RSLab/FLOMPY/venv/lib/python3.6/site-packages (from rasterio->flompy==1.0.0) (2.3.1)\n",
      "Requirement already satisfied: click-plugins in /home/olyna/Documents/RSLab/FLOMPY/venv/lib/python3.6/site-packages (from rasterio->flompy==1.0.0) (1.1.1)\n",
      "Requirement already satisfied: attrs in /home/olyna/Documents/RSLab/FLOMPY/venv/lib/python3.6/site-packages (from rasterio->flompy==1.0.0) (22.1.0)\n",
      "Requirement already satisfied: click>=4.0 in /home/olyna/Documents/RSLab/FLOMPY/venv/lib/python3.6/site-packages (from rasterio->flompy==1.0.0) (8.0.4)\n",
      "Requirement already satisfied: cligj>=0.5 in /home/olyna/Documents/RSLab/FLOMPY/venv/lib/python3.6/site-packages (from rasterio->flompy==1.0.0) (0.7.2)\n",
      "Requirement already satisfied: snuggs>=1.4.1 in /home/olyna/Documents/RSLab/FLOMPY/venv/lib/python3.6/site-packages (from rasterio->flompy==1.0.0) (1.4.7)\n",
      "Requirement already satisfied: setuptools in /home/olyna/Documents/RSLab/FLOMPY/venv/lib/python3.6/site-packages (from rasterio->flompy==1.0.0) (59.6.0)\n",
      "Requirement already satisfied: simplejson in /home/olyna/Documents/RSLab/FLOMPY/venv/lib/python3.6/site-packages (from rasterstats->flompy==1.0.0) (3.17.6)\n",
      "Requirement already satisfied: geomet in /home/olyna/Documents/RSLab/FLOMPY/venv/lib/python3.6/site-packages (from sentinelsat->flompy==1.0.0) (0.3.0)\n",
      "Requirement already satisfied: geojson>=2 in /home/olyna/Documents/RSLab/FLOMPY/venv/lib/python3.6/site-packages (from sentinelsat->flompy==1.0.0) (2.5.0)\n",
      "Requirement already satisfied: html2text in /home/olyna/Documents/RSLab/FLOMPY/venv/lib/python3.6/site-packages (from sentinelsat->flompy==1.0.0) (2020.1.16)\n",
      "Requirement already satisfied: importlib-resources in /home/olyna/Documents/RSLab/FLOMPY/venv/lib/python3.6/site-packages (from tqdm->flompy==1.0.0) (5.4.0)\n",
      "Requirement already satisfied: scikit-learn in /home/olyna/Documents/RSLab/FLOMPY/venv/lib/python3.6/site-packages (from sklearn->flompy==1.0.0) (0.24.2)\n",
      "Requirement already satisfied: keras-preprocessing~=1.1.2 in /home/olyna/Documents/RSLab/FLOMPY/venv/lib/python3.6/site-packages (from tensorflow->flompy==1.0.0) (1.1.2)\n",
      "Requirement already satisfied: wrapt~=1.12.1 in /home/olyna/Documents/RSLab/FLOMPY/venv/lib/python3.6/site-packages (from tensorflow->flompy==1.0.0) (1.12.1)\n",
      "Requirement already satisfied: tensorflow-estimator<2.7,>=2.6.0 in /home/olyna/Documents/RSLab/FLOMPY/venv/lib/python3.6/site-packages (from tensorflow->flompy==1.0.0) (2.6.0)\n",
      "Requirement already satisfied: clang~=5.0 in /home/olyna/Documents/RSLab/FLOMPY/venv/lib/python3.6/site-packages (from tensorflow->flompy==1.0.0) (5.0)\n",
      "Requirement already satisfied: protobuf>=3.9.2 in /home/olyna/Documents/RSLab/FLOMPY/venv/lib/python3.6/site-packages (from tensorflow->flompy==1.0.0) (3.19.4)\n",
      "Requirement already satisfied: grpcio<2.0,>=1.37.0 in /home/olyna/Documents/RSLab/FLOMPY/venv/lib/python3.6/site-packages (from tensorflow->flompy==1.0.0) (1.47.0)\n",
      "Requirement already satisfied: tensorboard<2.7,>=2.6.0 in /home/olyna/Documents/RSLab/FLOMPY/venv/lib/python3.6/site-packages (from tensorflow->flompy==1.0.0) (2.6.0)\n",
      "Requirement already satisfied: opt-einsum~=3.3.0 in /home/olyna/Documents/RSLab/FLOMPY/venv/lib/python3.6/site-packages (from tensorflow->flompy==1.0.0) (3.3.0)\n",
      "Requirement already satisfied: absl-py~=0.10 in /home/olyna/Documents/RSLab/FLOMPY/venv/lib/python3.6/site-packages (from tensorflow->flompy==1.0.0) (0.15.0)\n",
      "Requirement already satisfied: six~=1.15.0 in /home/olyna/Documents/RSLab/FLOMPY/venv/lib/python3.6/site-packages (from tensorflow->flompy==1.0.0) (1.15.0)\n",
      "Requirement already satisfied: gast==0.4.0 in /home/olyna/Documents/RSLab/FLOMPY/venv/lib/python3.6/site-packages (from tensorflow->flompy==1.0.0) (0.4.0)\n",
      "Requirement already satisfied: astunparse~=1.6.3 in /home/olyna/Documents/RSLab/FLOMPY/venv/lib/python3.6/site-packages (from tensorflow->flompy==1.0.0) (1.6.3)\n",
      "Requirement already satisfied: typing-extensions~=3.7.4 in /home/olyna/Documents/RSLab/FLOMPY/venv/lib/python3.6/site-packages (from tensorflow->flompy==1.0.0) (3.7.4.3)\n",
      "Requirement already satisfied: flatbuffers~=1.12.0 in /home/olyna/Documents/RSLab/FLOMPY/venv/lib/python3.6/site-packages (from tensorflow->flompy==1.0.0) (1.12)\n",
      "Requirement already satisfied: termcolor~=1.1.0 in /home/olyna/Documents/RSLab/FLOMPY/venv/lib/python3.6/site-packages (from tensorflow->flompy==1.0.0) (1.1.0)\n",
      "Requirement already satisfied: keras<2.7,>=2.6.0 in /home/olyna/Documents/RSLab/FLOMPY/venv/lib/python3.6/site-packages (from tensorflow->flompy==1.0.0) (2.6.0)\n",
      "Requirement already satisfied: google-pasta~=0.2 in /home/olyna/Documents/RSLab/FLOMPY/venv/lib/python3.6/site-packages (from tensorflow->flompy==1.0.0) (0.2.0)\n",
      "Requirement already satisfied: importlib-metadata in /home/olyna/Documents/RSLab/FLOMPY/venv/lib/python3.6/site-packages (from click>=4.0->rasterio->flompy==1.0.0) (4.8.3)\n",
      "Requirement already satisfied: munch in /home/olyna/Documents/RSLab/FLOMPY/venv/lib/python3.6/site-packages (from fiona>=1.8->geopandas->flompy==1.0.0) (2.5.0)\n",
      "Requirement already satisfied: decorator<5,>=4.3 in /home/olyna/Documents/RSLab/FLOMPY/venv/lib/python3.6/site-packages (from networkx>=2.0->scikit-image->flompy==1.0.0) (4.4.2)\n",
      "Requirement already satisfied: pyasn1>=0.1.3 in /home/olyna/Documents/RSLab/FLOMPY/venv/lib/python3.6/site-packages (from rsa<4.8,>=3.1.2->awscli->flompy==1.0.0) (0.4.8)\n",
      "Requirement already satisfied: markdown>=2.6.8 in /home/olyna/Documents/RSLab/FLOMPY/venv/lib/python3.6/site-packages (from tensorboard<2.7,>=2.6.0->tensorflow->flompy==1.0.0) (3.3.7)\n",
      "Requirement already satisfied: tensorboard-plugin-wit>=1.6.0 in /home/olyna/Documents/RSLab/FLOMPY/venv/lib/python3.6/site-packages (from tensorboard<2.7,>=2.6.0->tensorflow->flompy==1.0.0) (1.8.1)\n",
      "Requirement already satisfied: google-auth-oauthlib<0.5,>=0.4.1 in /home/olyna/Documents/RSLab/FLOMPY/venv/lib/python3.6/site-packages (from tensorboard<2.7,>=2.6.0->tensorflow->flompy==1.0.0) (0.4.6)\n",
      "Requirement already satisfied: google-auth<2,>=1.6.3 in /home/olyna/Documents/RSLab/FLOMPY/venv/lib/python3.6/site-packages (from tensorboard<2.7,>=2.6.0->tensorflow->flompy==1.0.0) (1.35.0)\n",
      "Requirement already satisfied: tensorboard-data-server<0.7.0,>=0.6.0 in /home/olyna/Documents/RSLab/FLOMPY/venv/lib/python3.6/site-packages (from tensorboard<2.7,>=2.6.0->tensorflow->flompy==1.0.0) (0.6.1)\n",
      "Requirement already satisfied: werkzeug>=0.11.15 in /home/olyna/Documents/RSLab/FLOMPY/venv/lib/python3.6/site-packages (from tensorboard<2.7,>=2.6.0->tensorflow->flompy==1.0.0) (2.0.3)\n",
      "Requirement already satisfied: zipp>=3.1.0 in /home/olyna/Documents/RSLab/FLOMPY/venv/lib/python3.6/site-packages (from importlib-resources->tqdm->flompy==1.0.0) (3.6.0)\n",
      "Requirement already satisfied: threadpoolctl>=2.0.0 in /home/olyna/Documents/RSLab/FLOMPY/venv/lib/python3.6/site-packages (from scikit-learn->sklearn->flompy==1.0.0) (3.1.0)\n",
      "Requirement already satisfied: pyasn1-modules>=0.2.1 in /home/olyna/Documents/RSLab/FLOMPY/venv/lib/python3.6/site-packages (from google-auth<2,>=1.6.3->tensorboard<2.7,>=2.6.0->tensorflow->flompy==1.0.0) (0.2.8)\n",
      "Requirement already satisfied: cachetools<5.0,>=2.0.0 in /home/olyna/Documents/RSLab/FLOMPY/venv/lib/python3.6/site-packages (from google-auth<2,>=1.6.3->tensorboard<2.7,>=2.6.0->tensorflow->flompy==1.0.0) (4.2.4)\n",
      "Requirement already satisfied: requests-oauthlib>=0.7.0 in /home/olyna/Documents/RSLab/FLOMPY/venv/lib/python3.6/site-packages (from google-auth-oauthlib<0.5,>=0.4.1->tensorboard<2.7,>=2.6.0->tensorflow->flompy==1.0.0) (1.3.1)\n",
      "Requirement already satisfied: dataclasses in /home/olyna/Documents/RSLab/FLOMPY/venv/lib/python3.6/site-packages (from werkzeug>=0.11.15->tensorboard<2.7,>=2.6.0->tensorflow->flompy==1.0.0) (0.8)\n",
      "Requirement already satisfied: oauthlib>=3.0.0 in /home/olyna/Documents/RSLab/FLOMPY/venv/lib/python3.6/site-packages (from requests-oauthlib>=0.7.0->google-auth-oauthlib<0.5,>=0.4.1->tensorboard<2.7,>=2.6.0->tensorflow->flompy==1.0.0) (3.2.0)\n",
      "Installing collected packages: flompy\n",
      "  Attempting uninstall: flompy\n",
      "    Found existing installation: flompy 1.0.0\n",
      "    Uninstalling flompy-1.0.0:\n",
      "      Successfully uninstalled flompy-1.0.0\n",
      "  Running setup.py develop for flompy\n",
      "Successfully installed flompy-1.0.0\n"
     ]
    }
   ],
   "source": [
    "! cd ../.. && pip install -e ."
   ]
  },
  {
   "cell_type": "code",
   "execution_count": 2,
   "metadata": {},
   "outputs": [
    {
     "name": "stderr",
     "output_type": "stream",
     "text": [
      "/home/olyna/Documents/RSLab/FLOMPY/venv/lib/python3.6/site-packages/tqdm/auto.py:22: TqdmWarning: IProgress not found. Please update jupyter and ipywidgets. See https://ipywidgets.readthedocs.io/en/stable/user_install.html\n",
      "  from .autonotebook import tqdm as notebook_tqdm\n"
     ]
    },
    {
     "name": "stdout",
     "output_type": "stream",
     "text": [
      "-----------------------------------------\n",
      "keras-unet init: TF version is >= 2.0.0 - using `tf.keras` instead of `Keras`\n",
      "-----------------------------------------\n",
      "FLOod Mapping PYthon toolbox\n",
      "Copyright (c) 2021-2022 Kleanthis Karamvasis, karamvasis_k@hotmail.com\n",
      "Remote Sensing Laboratory of National Technical University of Athens\n",
      "-----------------------------------------------------------------\n",
      "License: GNU GPL v3+\n",
      "-----------------------------------------------------------------\n"
     ]
    }
   ],
   "source": [
    "from flompy.FLOMPYapp import FloodwaterEstimation"
   ]
  },
  {
   "cell_type": "code",
   "execution_count": 3,
   "metadata": {},
   "outputs": [
    {
     "data": {
      "text/plain": [
       "<flompy.FLOMPYapp.FloodwaterEstimation at 0x7f9879adcdd8>"
      ]
     },
     "execution_count": 3,
     "metadata": {},
     "output_type": "execute_result"
    }
   ],
   "source": [
    "FloodwaterEstimation(customTemplateFile = \"../../FLOMPYapp_template.cfg\")"
   ]
  },
  {
   "cell_type": "markdown",
   "metadata": {},
   "source": [
    "## <a id='intro'></a>1. Retrieve Usefull Data (Sentinel-1, Sentinel-2, ERA5)"
   ]
  },
  {
   "cell_type": "code",
   "execution_count": 4,
   "metadata": {},
   "outputs": [
    {
     "ename": "ModuleNotFoundError",
     "evalue": "No module named 'hda'",
     "output_type": "error",
     "traceback": [
      "\u001b[0;31m---------------------------------------------------------------------------\u001b[0m",
      "\u001b[0;31mModuleNotFoundError\u001b[0m                       Traceback (most recent call last)",
      "\u001b[0;32m<ipython-input-4-bfbbecd4a730>\u001b[0m in \u001b[0;36m<module>\u001b[0;34m\u001b[0m\n\u001b[1;32m      1\u001b[0m \u001b[0;32mimport\u001b[0m \u001b[0mos\u001b[0m\u001b[0;34m\u001b[0m\u001b[0;34m\u001b[0m\u001b[0m\n\u001b[1;32m      2\u001b[0m \u001b[0;32mimport\u001b[0m \u001b[0mgeopandas\u001b[0m \u001b[0;32mas\u001b[0m \u001b[0mgpd\u001b[0m\u001b[0;34m\u001b[0m\u001b[0;34m\u001b[0m\u001b[0m\n\u001b[0;32m----> 3\u001b[0;31m \u001b[0;32mimport\u001b[0m \u001b[0mretrieve\u001b[0m\u001b[0;34m\u001b[0m\u001b[0;34m\u001b[0m\u001b[0m\n\u001b[0m\u001b[1;32m      4\u001b[0m \u001b[0;32mimport\u001b[0m \u001b[0mmatplotlib\u001b[0m\u001b[0;34m.\u001b[0m\u001b[0mpyplot\u001b[0m \u001b[0;32mas\u001b[0m \u001b[0mplt\u001b[0m\u001b[0;34m\u001b[0m\u001b[0;34m\u001b[0m\u001b[0m\n\u001b[1;32m      5\u001b[0m \u001b[0;34m\u001b[0m\u001b[0m\n",
      "\u001b[0;32m~/Documents/Github/FLOMPY/flompy/wekeo/retrieve.py\u001b[0m in \u001b[0;36m<module>\u001b[0;34m\u001b[0m\n\u001b[1;32m      6\u001b[0m \u001b[0;32mfrom\u001b[0m \u001b[0mIPython\u001b[0m\u001b[0;34m.\u001b[0m\u001b[0mcore\u001b[0m\u001b[0;34m.\u001b[0m\u001b[0mdisplay\u001b[0m \u001b[0;32mimport\u001b[0m \u001b[0mHTML\u001b[0m\u001b[0;34m\u001b[0m\u001b[0;34m\u001b[0m\u001b[0m\n\u001b[1;32m      7\u001b[0m \u001b[0;32mimport\u001b[0m \u001b[0mzipfile\u001b[0m\u001b[0;34m\u001b[0m\u001b[0;34m\u001b[0m\u001b[0m\n\u001b[0;32m----> 8\u001b[0;31m \u001b[0;32mfrom\u001b[0m \u001b[0mhda\u001b[0m \u001b[0;32mimport\u001b[0m \u001b[0mClient\u001b[0m\u001b[0;34m\u001b[0m\u001b[0;34m\u001b[0m\u001b[0m\n\u001b[0m\u001b[1;32m      9\u001b[0m \u001b[0;32mimport\u001b[0m \u001b[0mxarray\u001b[0m \u001b[0;32mas\u001b[0m \u001b[0mxr\u001b[0m\u001b[0;34m\u001b[0m\u001b[0;34m\u001b[0m\u001b[0m\n\u001b[1;32m     10\u001b[0m \u001b[0;32mfrom\u001b[0m \u001b[0mtyping\u001b[0m \u001b[0;32mimport\u001b[0m \u001b[0mTuple\u001b[0m\u001b[0;34m\u001b[0m\u001b[0;34m\u001b[0m\u001b[0m\n",
      "\u001b[0;31mModuleNotFoundError\u001b[0m: No module named 'hda'"
     ]
    }
   ],
   "source": [
    "import os\n",
    "import geopandas as gpd\n",
    "import retrieve\n",
    "import matplotlib.pyplot as plt\n",
    "\n",
    "import warnings\n",
    "warnings.filterwarnings('ignore')"
   ]
  },
  {
   "cell_type": "markdown",
   "metadata": {},
   "source": [
    "### <a id='userinputs'></a>User Home Directory"
   ]
  },
  {
   "cell_type": "code",
   "execution_count": 2,
   "metadata": {},
   "outputs": [
    {
     "name": "stdout",
     "output_type": "stream",
     "text": [
      "User Directory: /home/olyna/Documents/RSLab/FLOMPY/wekeo\n"
     ]
    }
   ],
   "source": [
    "# from pathlib import Path\n",
    "\n",
    "# # Define User Working/Downloading Directory\n",
    "# path = Path(os.getcwd())\n",
    "# levels_up = 2\n",
    "# USER_DIR = path.parents[levels_up-1]\n",
    "\n",
    "USER_DIR = '/home/olyna/Documents/RSLab/FLOMPY/wekeo'\n",
    "\n",
    "print(f\"User Directory: {USER_DIR}\")"
   ]
  },
  {
   "cell_type": "markdown",
   "metadata": {},
   "source": [
    "### <a id='userinputs'></a>User Inputs: Area of Interest & Flood Event Date"
   ]
  },
  {
   "cell_type": "code",
   "execution_count": 3,
   "metadata": {},
   "outputs": [],
   "source": [
    "# Read AOI loaded by user, located in user home directory\n",
    "aoi_fname = 'Flompy_ianos_aoi.geojson'\n",
    "# AOI as Shapely geometry\n",
    "aoi = gpd.read_file(os.path.join(USER_DIR, aoi_fname)).iloc[0].explode().geometry\n",
    "\n",
    "# Flood Event Date (YYYY-MM-DD)\n",
    "FLOOD_DATE = '2020-09-21'"
   ]
  },
  {
   "cell_type": "markdown",
   "metadata": {},
   "source": [
    "### <a ic='era5'></a>Download ERA5 data"
   ]
  },
  {
   "cell_type": "code",
   "execution_count": 4,
   "metadata": {},
   "outputs": [
    {
     "name": "stdout",
     "output_type": "stream",
     "text": [
      "Downloading matches: 1\n",
      "adaptor.mars.internal-1659622186.5186288-13995-7-9f1aab25-5105-4951-a75b-61976e6e99d0.nc\n"
     ]
    },
    {
     "name": "stderr",
     "output_type": "stream",
     "text": [
      "2022-08-04 17:16:29,218 INFO Downloading https://wekeo-broker.apps.mercator.dpi.wekeo.eu/databroker/dataorder/download/KaoDn2w9uZDcOBnxkY5HdmfVds8 to adaptor.mars.internal-1659622186.5186288-13995-7-9f1aab25-5105-4951-a75b-61976e6e99d0.nc (3.1K)\n",
      "2022-08-04 17:16:48,428 INFO Download rate 166.4/s\n"
     ]
    },
    {
     "name": "stdout",
     "output_type": "stream",
     "text": [
      "                                          tp\n",
      "latitude  longitude time                    \n",
      "39.379002 21.996    2020-09-11 00:00:00  0.0\n",
      "                    2020-09-11 01:00:00  0.0\n",
      "                    2020-09-11 02:00:00  0.0\n",
      "                    2020-09-11 03:00:00  0.0\n",
      "                    2020-09-11 04:00:00  0.0\n",
      "                    2020-09-11 05:00:00  0.0\n",
      "                    2020-09-11 06:00:00  0.0\n",
      "                    2020-09-11 07:00:00  0.0\n",
      "                    2020-09-11 08:00:00  0.0\n",
      "                    2020-09-11 09:00:00  0.0\n",
      "                    2020-09-11 10:00:00  0.0\n",
      "                    2020-09-11 11:00:00  0.0\n",
      "                    2020-09-11 12:00:00  0.0\n",
      "                    2020-09-11 13:00:00  0.0\n",
      "                    2020-09-11 14:00:00  0.0\n",
      "                    2020-09-11 15:00:00  0.0\n",
      "                    2020-09-11 16:00:00  0.0\n",
      "                    2020-09-11 17:00:00  0.0\n",
      "                    2020-09-11 18:00:00  0.0\n",
      "                    2020-09-11 19:00:00  0.0\n"
     ]
    },
    {
     "data": {
      "text/plain": [
       "0"
      ]
     },
     "execution_count": 4,
     "metadata": {},
     "output_type": "execute_result"
    }
   ],
   "source": [
    "retrieve.era5_data(aoi, FLOOD_DATE, USER_DIR)"
   ]
  },
  {
   "cell_type": "markdown",
   "metadata": {},
   "source": [
    "### <a ic='s2'></a>Download Sentinel-2 data"
   ]
  },
  {
   "cell_type": "code",
   "execution_count": 4,
   "metadata": {},
   "outputs": [
    {
     "name": "stdout",
     "output_type": "stream",
     "text": [
      "Downloading matches: 1\n",
      "S2A_MSIL2A_20200920T092031_N0214_R093_T34SEJ_20200920T115008.zip Already Exists\n",
      "Downloading matches: 1\n",
      "S2B_MSIL2A_20200915T092029_N0214_R093_T34SEJ_20200915T112537.zip Already Exists\n",
      "Downloading matches: 1\n",
      "S2A_MSIL2A_20200910T092031_N0214_R093_T34SEJ_20200910T122928.zip Already Exists\n"
     ]
    },
    {
     "data": {
      "text/plain": [
       "0"
      ]
     },
     "execution_count": 4,
     "metadata": {},
     "output_type": "execute_result"
    }
   ],
   "source": [
    "retrieve.S2_data(aoi, USER_DIR)"
   ]
  },
  {
   "cell_type": "markdown",
   "metadata": {},
   "source": [
    "### <a ic='s1'></a>Download Sentinel-1 data"
   ]
  },
  {
   "cell_type": "code",
   "execution_count": 5,
   "metadata": {},
   "outputs": [
    {
     "name": "stdout",
     "output_type": "stream",
     "text": [
      "Downloading matches: 1\n",
      "S1A_IW_GRDH_1SDV_20200723T043928_20200723T043953_033577_03E427_A4F2.zip Already Exists\n",
      "Downloading matches: 1\n",
      "S1B_IW_GRDH_1SDV_20200729T043847_20200729T043912_022681_02B0CF_EF28.zip Already Exists\n",
      "Downloading matches: 1\n",
      "S1A_IW_GRDH_1SDV_20200804T043929_20200804T043954_033752_03E97E_9734.zip\n"
     ]
    },
    {
     "name": "stderr",
     "output_type": "stream",
     "text": [
      "2022-08-04 21:42:40,937 INFO Downloading https://wekeo-broker.apps.mercator.dpi.wekeo.eu/databroker/dataorder/download/SgktFtmmYiSRC3Lf9fBIaOYTBG8 to S1A_IW_GRDH_1SDV_20200804T043929_20200804T043954_033752_03E97E_9734.zip (973.1M)\n",
      "2022-08-04 22:14:01,439 ERROR Download incomplete, downloaded 1471749314 byte(s) out of 1752624762\n",
      "2022-08-04 22:14:01,441 WARNING Sleeping 10 seconds\n",
      "2022-08-04 22:14:11,450 WARNING Resuming download at byte 1471749314\n",
      "2022-08-04 22:20:44,483 WARNING Oops, downloaded 1752624762 byte(s), was supposed to be 280875448 (extra 1471749314)\n",
      "2022-08-04 22:20:44,483 INFO Download rate 120.1K/s\n"
     ]
    },
    {
     "data": {
      "text/plain": [
       "0"
      ]
     },
     "execution_count": 5,
     "metadata": {},
     "output_type": "execute_result"
    }
   ],
   "source": [
    "retrieve.S1_data(aoi, USER_DIR)"
   ]
  }
 ],
 "metadata": {
  "kernelspec": {
   "display_name": "Python 3.6.9 ('venv')",
   "language": "python",
   "name": "python3"
  },
  "language_info": {
   "codemirror_mode": {
    "name": "ipython",
    "version": 3
   },
   "file_extension": ".py",
   "mimetype": "text/x-python",
   "name": "python",
   "nbconvert_exporter": "python",
   "pygments_lexer": "ipython3",
   "version": "3.6.9"
  },
  "vscode": {
   "interpreter": {
    "hash": "2cbd12cf15904f49236868e52223ac6dba66d2e1778b7a5fa8a6c3a2f0b40e11"
   }
  }
 },
 "nbformat": 4,
 "nbformat_minor": 4
}
