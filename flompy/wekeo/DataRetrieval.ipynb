{
 "cells": [
  {
   "cell_type": "code",
   "execution_count": 16,
   "metadata": {},
   "outputs": [
    {
     "data": {
      "text/html": [
       "<img src=\"../../../real_data/sometimes.gif\"/>"
      ],
      "text/plain": [
       "<IPython.core.display.Image object>"
      ]
     },
     "execution_count": 16,
     "metadata": {},
     "output_type": "execute_result"
    }
   ],
   "source": [
    "from IPython.display import Image\n",
    "Image(url='../../../real_data/sometimes.gif') "
   ]
  },
  {
   "cell_type": "markdown",
   "metadata": {},
   "source": [
    "## <a id='search_download'></a>Imports"
   ]
  },
  {
   "cell_type": "code",
   "execution_count": 4,
   "metadata": {},
   "outputs": [],
   "source": [
    "import os\n",
    "import geopandas as gpd\n",
    "import matplotlib.pyplot as plt\n",
    "from pathlib import Path\n",
    "\n",
    "from flompy.FLOMPYapp import FloodwaterEstimation\n",
    "from flompy.Download import Sentinel_1_download, Sentinel_2_download\n",
    "import retrieve\n",
    "\n",
    "import warnings\n",
    "warnings.filterwarnings('ignore')"
   ]
  },
  {
   "cell_type": "markdown",
   "metadata": {},
   "source": [
    "## <a id='search_download'></a>Define User Working Directory"
   ]
  },
  {
   "cell_type": "code",
   "execution_count": 5,
   "metadata": {},
   "outputs": [
    {
     "name": "stdout",
     "output_type": "stream",
     "text": [
      "User Directory: /home/olyg\n"
     ]
    }
   ],
   "source": [
    "path = Path(os.getcwd())\n",
    "USER_DIR = path.parents[2]\n",
    "print(f\"User Directory: {USER_DIR}\")"
   ]
  },
  {
   "cell_type": "markdown",
   "metadata": {},
   "source": [
    "## <a id='search_download'></a>Custom Configuration File"
   ]
  },
  {
   "cell_type": "code",
   "execution_count": 6,
   "metadata": {},
   "outputs": [
    {
     "name": "stderr",
     "output_type": "stream",
     "text": [
      "/home/olyg/Palamas/Palamas_AOI.geojson: No such file or directory\n",
      "proj_create: Open of /opt/conda/share/proj failed\n",
      "proj_create: init=epsg:/init=IGNF: syntax not supported in non-PROJ4 emulation mode\n",
      "driver GeoJSON does not support creation option ENCODING\n"
     ]
    },
    {
     "name": "stdout",
     "output_type": "stream",
     "text": [
      "Projectname : Palamas\n",
      "projectfolder : /home/olyg/Palamas\n",
      "src_dir : /home/olyg/FLOMPY/flompy/\n",
      "snap_dir : /home/jovyan/.snap/auxdata/Orbits/Sentinel-1\n",
      "GPTBIN_PATH : /home/jovyan/snap/bin/gpt\n",
      "Flood_datetime : 20200921T030000\n",
      "before_flood_days : 20\n",
      "after_flood_days : 3\n",
      "#-In case you provide AOI BBOX coordinates, set  AOI_File : None\n",
      "AOI_File : None\n",
      "LONMIN : 22.02\n",
      "LATMIN : 39.46\n",
      "LONMAX : 22.17\n",
      "LATMAX : 39.518\n",
      "days_back : 12\n",
      "accumulated_precipitation_threshold : 120\n",
      "relOrbit : Auto\n",
      "minimum_mapping_unit_area_m2 : 4000\n",
      "CPU : 8\n",
      "RAM : 20G\n",
      "scihub_username : alek.falagas\n",
      "scihub_password : alekos1993\n"
     ]
    },
    {
     "data": {
      "text/plain": [
       "0"
      ]
     },
     "execution_count": 6,
     "metadata": {},
     "output_type": "execute_result"
    }
   ],
   "source": [
    "app = FloodwaterEstimation(customTemplateFile = os.path.join(USER_DIR, 'FLOMPY', 'FLOMPYapp_template.cfg'))\n",
    "app.startup()"
   ]
  },
  {
   "cell_type": "markdown",
   "metadata": {},
   "source": [
    "## <a id='search_download'></a>Download ERA5 using HDA API"
   ]
  },
  {
   "cell_type": "code",
   "execution_count": 7,
   "metadata": {},
   "outputs": [
    {
     "name": "stdout",
     "output_type": "stream",
     "text": [
      "Downloading matches: 1\n",
      "adaptor.mars.internal-1661861550.0492537-9520-5-a993bd83-d712-4fcc-ae57-ef165d76732e.nc\n"
     ]
    },
    {
     "name": "stderr",
     "output_type": "stream",
     "text": [
      "Downloading https://wekeo-broker.apps.mercator.dpi.wekeo.eu/databroker/dataorder/download/lKnMtefiHmLizIr4fb2jkzQhq9s to adaptor.mars.internal-1661861550.0492537-9520-5-a993bd83-d712-4fcc-ae57-ef165d76732e.nc (4.4K)\n",
      "Download rate 4.9K/s                       \n",
      "NumExpr defaulting to 8 threads.\n"
     ]
    },
    {
     "data": {
      "text/html": [
       "<div>\n",
       "<style scoped>\n",
       "    .dataframe tbody tr th:only-of-type {\n",
       "        vertical-align: middle;\n",
       "    }\n",
       "\n",
       "    .dataframe tbody tr th {\n",
       "        vertical-align: top;\n",
       "    }\n",
       "\n",
       "    .dataframe thead th {\n",
       "        text-align: right;\n",
       "    }\n",
       "</style>\n",
       "<table border=\"1\" class=\"dataframe\">\n",
       "  <thead>\n",
       "    <tr style=\"text-align: right;\">\n",
       "      <th></th>\n",
       "      <th>ERA5_tp_mm</th>\n",
       "      <th>Datetime</th>\n",
       "    </tr>\n",
       "    <tr>\n",
       "      <th>Datetimes</th>\n",
       "      <th></th>\n",
       "      <th></th>\n",
       "    </tr>\n",
       "  </thead>\n",
       "  <tbody>\n",
       "    <tr>\n",
       "      <th>2020-09-01 00:00:00</th>\n",
       "      <td>0.0</td>\n",
       "      <td>2020-09-01 00:00:00</td>\n",
       "    </tr>\n",
       "    <tr>\n",
       "      <th>2020-09-01 01:00:00</th>\n",
       "      <td>0.0</td>\n",
       "      <td>2020-09-01 01:00:00</td>\n",
       "    </tr>\n",
       "    <tr>\n",
       "      <th>2020-09-01 02:00:00</th>\n",
       "      <td>0.0</td>\n",
       "      <td>2020-09-01 02:00:00</td>\n",
       "    </tr>\n",
       "    <tr>\n",
       "      <th>2020-09-01 03:00:00</th>\n",
       "      <td>0.0</td>\n",
       "      <td>2020-09-01 03:00:00</td>\n",
       "    </tr>\n",
       "    <tr>\n",
       "      <th>2020-09-01 04:00:00</th>\n",
       "      <td>0.0</td>\n",
       "      <td>2020-09-01 04:00:00</td>\n",
       "    </tr>\n",
       "    <tr>\n",
       "      <th>...</th>\n",
       "      <td>...</td>\n",
       "      <td>...</td>\n",
       "    </tr>\n",
       "    <tr>\n",
       "      <th>2020-09-24 19:00:00</th>\n",
       "      <td>0.0</td>\n",
       "      <td>2020-09-24 19:00:00</td>\n",
       "    </tr>\n",
       "    <tr>\n",
       "      <th>2020-09-24 20:00:00</th>\n",
       "      <td>0.0</td>\n",
       "      <td>2020-09-24 20:00:00</td>\n",
       "    </tr>\n",
       "    <tr>\n",
       "      <th>2020-09-24 21:00:00</th>\n",
       "      <td>0.0</td>\n",
       "      <td>2020-09-24 21:00:00</td>\n",
       "    </tr>\n",
       "    <tr>\n",
       "      <th>2020-09-24 22:00:00</th>\n",
       "      <td>0.0</td>\n",
       "      <td>2020-09-24 22:00:00</td>\n",
       "    </tr>\n",
       "    <tr>\n",
       "      <th>2020-09-24 23:00:00</th>\n",
       "      <td>0.0</td>\n",
       "      <td>2020-09-24 23:00:00</td>\n",
       "    </tr>\n",
       "  </tbody>\n",
       "</table>\n",
       "<p>576 rows × 2 columns</p>\n",
       "</div>"
      ],
      "text/plain": [
       "                     ERA5_tp_mm            Datetime\n",
       "Datetimes                                          \n",
       "2020-09-01 00:00:00         0.0 2020-09-01 00:00:00\n",
       "2020-09-01 01:00:00         0.0 2020-09-01 01:00:00\n",
       "2020-09-01 02:00:00         0.0 2020-09-01 02:00:00\n",
       "2020-09-01 03:00:00         0.0 2020-09-01 03:00:00\n",
       "2020-09-01 04:00:00         0.0 2020-09-01 04:00:00\n",
       "...                         ...                 ...\n",
       "2020-09-24 19:00:00         0.0 2020-09-24 19:00:00\n",
       "2020-09-24 20:00:00         0.0 2020-09-24 20:00:00\n",
       "2020-09-24 21:00:00         0.0 2020-09-24 21:00:00\n",
       "2020-09-24 22:00:00         0.0 2020-09-24 22:00:00\n",
       "2020-09-24 23:00:00         0.0 2020-09-24 23:00:00\n",
       "\n",
       "[576 rows x 2 columns]"
      ]
     },
     "execution_count": 7,
     "metadata": {},
     "output_type": "execute_result"
    }
   ],
   "source": [
    "retrieve.era5_data(app.bbox, app.flood_datetime, app.start_datetime, app.end_datetime, app.ERA5_dir)"
   ]
  },
  {
   "cell_type": "markdown",
   "metadata": {},
   "source": [
    "## <a id='search_download'></a>Download Sentinel-1 using HDA API"
   ]
  },
  {
   "cell_type": "code",
   "execution_count": 8,
   "metadata": {},
   "outputs": [
    {
     "name": "stderr",
     "output_type": "stream",
     "text": [
      "Found 20 products\n"
     ]
    },
    {
     "name": "stdout",
     "output_type": "stream",
     "text": [
      "S1A_IW_GRDH_1SDV_20200921T043931_20200921T043956_034452_04021B_A9F1.SAFE acquisition \n",
      " was acquired after 1.66 hours from the user-defined datetime of flood event 2020-09-21 03:00:00\n",
      "This is download try # 1.\n",
      " We will try to download the requested products in 00 minutes.\n"
     ]
    },
    {
     "data": {
      "text/plain": [
       "0"
      ]
     },
     "execution_count": 8,
     "metadata": {},
     "output_type": "execute_result"
    }
   ],
   "source": [
    "Sentinel_1_download.Download_S1_data(\n",
    "    scihub_accounts = app.credentials,\n",
    "    S1_GRD_dir = app.S1_GRD_dir,\n",
    "    geojson_S1 = app.geojson_S1,\n",
    "    Start_time = app.Start_time,\n",
    "    End_time = app.End_time,\n",
    "    relOrbit = app.relOrbit,\n",
    "    flood_datetime = app.flood_datetime,\n",
    "    time_sleep=10,\n",
    "    max_tries=1,\n",
    "    download=False\n",
    ")"
   ]
  },
  {
   "cell_type": "code",
   "execution_count": 9,
   "metadata": {},
   "outputs": [
    {
     "name": "stdout",
     "output_type": "stream",
     "text": [
      "Downloading matches: 1\n",
      "S1B_IW_GRDH_1SDV_20200903T043849_20200903T043914_023206_02C11B_8188.zip\n"
     ]
    },
    {
     "name": "stderr",
     "output_type": "stream",
     "text": [
      "Downloading https://wekeo-broker.apps.mercator.dpi.wekeo.eu/databroker/dataorder/download/spQHkgHmk4xuiD64G51IO78HyzQ to S1B_IW_GRDH_1SDV_20200903T043849_20200903T043914_023206_02C11B_8188.zip (970.9M)\n",
      "Oops, downloaded 1753020027 byte(s), was supposed to be 1018076147 (extra 734943880)\n",
      "Download rate 29.6M/s\n"
     ]
    },
    {
     "name": "stdout",
     "output_type": "stream",
     "text": [
      "Downloading matches: 1\n",
      "S1A_IW_GRDH_1SDV_20200909T043931_20200909T043956_034277_03FBD8_44F9.zip\n"
     ]
    },
    {
     "name": "stderr",
     "output_type": "stream",
     "text": [
      "Downloading https://wekeo-broker.apps.mercator.dpi.wekeo.eu/databroker/dataorder/download/a_t3AIIFudvfFFHKcMrqa-ODncI to S1A_IW_GRDH_1SDV_20200909T043931_20200909T043956_034277_03FBD8_44F9.zip (972.9M)\n",
      "Oops, downloaded 1752755513 byte(s), was supposed to be 1020108043 (extra 732647470)\n",
      "Download rate 27.2M/s\n"
     ]
    },
    {
     "name": "stdout",
     "output_type": "stream",
     "text": [
      "Downloading matches: 1\n",
      "S1B_IW_GRDH_1SDV_20200915T043849_20200915T043914_023381_02C69F_E9BB.zip\n"
     ]
    },
    {
     "name": "stderr",
     "output_type": "stream",
     "text": [
      "Downloading https://wekeo-broker.apps.mercator.dpi.wekeo.eu/databroker/dataorder/download/jrytKWOrBoYJasb_l-QbFWp8lCg to S1B_IW_GRDH_1SDV_20200915T043849_20200915T043914_023381_02C69F_E9BB.zip (966.8M)\n",
      "Oops, downloaded 1752916626 byte(s), was supposed to be 1013743357 (extra 739173269)\n",
      "Download rate 28.3M/s\n"
     ]
    },
    {
     "name": "stdout",
     "output_type": "stream",
     "text": [
      "Downloading matches: 1\n",
      "S1A_IW_GRDH_1SDV_20200921T043931_20200921T043956_034452_04021B_A9F1.zip\n"
     ]
    },
    {
     "name": "stderr",
     "output_type": "stream",
     "text": [
      "Downloading https://wekeo-broker.apps.mercator.dpi.wekeo.eu/databroker/dataorder/download/kWS9ubbTd1k3mUqjcfWuF0wTdvs to S1A_IW_GRDH_1SDV_20200921T043931_20200921T043956_034452_04021B_A9F1.zip (968.3M)\n",
      "Oops, downloaded 1752753212 byte(s), was supposed to be 1015284712 (extra 737468500)\n",
      "Download rate 26.8M/s\n"
     ]
    },
    {
     "data": {
      "text/plain": [
       "0"
      ]
     },
     "execution_count": 9,
     "metadata": {},
     "output_type": "execute_result"
    }
   ],
   "source": [
    "retrieve.S1_data(app.bbox, app.S1_GRD_dir)"
   ]
  },
  {
   "cell_type": "markdown",
   "metadata": {},
   "source": [
    "## <a id='search_download'></a>Preprocessing_S1_data"
   ]
  },
  {
   "cell_type": "code",
   "execution_count": 10,
   "metadata": {},
   "outputs": [
    {
     "name": "stdout",
     "output_type": "stream",
     "text": [
      " We coregister the images in respect with the acquisition of S1A_IW_GRDH_1SDV_20200921T043931_20200921T043956_034452_04021B_A9F1.zip\n",
      "Processing of flood image 20200921T043931\n"
     ]
    },
    {
     "name": "stderr",
     "output_type": "stream",
     "text": [
      "proj_create: Open of /opt/conda/share/proj failed\n",
      "proj_create: init=epsg:/init=IGNF: syntax not supported in non-PROJ4 emulation mode\n"
     ]
    },
    {
     "name": "stdout",
     "output_type": "stream",
     "text": [
      "Processing of baseline image 20200903T043849\n",
      "Processing of baseline image 20200909T043931\n",
      "Processing of baseline image 20200915T043849\n",
      "Refine borders of Sentinel-1 acquisitions\n",
      "20200903T043849\n",
      "20200909T043931\n",
      "20200915T043849\n",
      "Baseline Stack images:\n",
      "20200903T043849\n",
      "20200909T043931\n",
      "20200915T043849\n",
      "Flood image:\n",
      "20200921T043931\n",
      "All information from SAR imagery are stored at /home/olyg/Palamas/Preprocessed/Stack/SAR_Stack.h5\n"
     ]
    },
    {
     "data": {
      "text/plain": [
       "0"
      ]
     },
     "execution_count": 10,
     "metadata": {},
     "output_type": "execute_result"
    }
   ],
   "source": [
    "app.run_preprocessing_S1_data('Preprocessing_S1_data')"
   ]
  },
  {
   "cell_type": "code",
   "execution_count": 17,
   "metadata": {},
   "outputs": [
    {
     "data": {
      "text/html": [
       "<img src=\"../../../real_data/paper.gif\"/>"
      ],
      "text/plain": [
       "<IPython.core.display.Image object>"
      ]
     },
     "execution_count": 17,
     "metadata": {},
     "output_type": "execute_result"
    }
   ],
   "source": [
    "from IPython.display import Image\n",
    "Image(url='../../../real_data/paper.gif') "
   ]
  },
  {
   "cell_type": "code",
   "execution_count": 18,
   "metadata": {},
   "outputs": [
    {
     "name": "stderr",
     "output_type": "stream",
     "text": [
      "pj_obj_create: Open of /opt/conda/share/proj failed\n",
      "pj_obj_create: Open of /opt/conda/share/proj failed\n",
      "pj_obj_create: Open of /opt/conda/share/proj failed\n",
      "pj_obj_create: Open of /opt/conda/share/proj failed\n",
      "\n",
      "A Slope calculation (degrees)\u001b[39m\n",
      "C Horn, B.K.P., 1981. Hill shading and the reflectance map. Proceedings of the IEEE 69, 14–47. doi:10.1109/PROC.1981.11918\u001b[39m\n",
      "\n",
      "\u001b[2Kt Wall-time = 0.13263\u001b[39m======================== ] (99% - 0.0s - 1 threads)\n",
      "\n",
      "A Aspect attribute calculation\u001b[39m\n",
      "C Horn, B.K.P., 1981. Hill shading and the reflectance map. Proceedings of the IEEE 69, 14–47. doi:10.1109/PROC.1981.11918\u001b[39m\n",
      "\n",
      "\u001b[2Kt Wall-time = 0.154789\u001b[39m======================= ] (99% - 0.0s - 1 threads)\n",
      "pj_obj_create: Open of /opt/conda/share/proj failed\n",
      "pj_obj_create: Open of /opt/conda/share/proj failed\n",
      "pj_obj_create: Open of /opt/conda/share/proj failed\n",
      "pj_obj_create: Open of /opt/conda/share/proj failed\n",
      "pj_obj_create: Open of /opt/conda/share/proj failed\n",
      "pj_obj_create: Open of /opt/conda/share/proj failed\n"
     ]
    },
    {
     "name": "stdout",
     "output_type": "stream",
     "text": [
      "T-score changes due to flood can be found at /home/olyg/Palamas/Results/t_scores_VV_VH_db.tif\n"
     ]
    },
    {
     "data": {
      "text/plain": [
       "0"
      ]
     },
     "execution_count": 18,
     "metadata": {},
     "output_type": "execute_result"
    }
   ],
   "source": [
    "app.run_multitemporal_statistics('Statistical_analysis')"
   ]
  },
  {
   "cell_type": "code",
   "execution_count": 19,
   "metadata": {},
   "outputs": [
    {
     "name": "stdout",
     "output_type": "stream",
     "text": [
      "-13.181773\n",
      "Floodwater map can be found at /home/olyg/Palamas/Results/Flood_map_Palamas.tif\n"
     ]
    },
    {
     "data": {
      "text/plain": [
       "0"
      ]
     },
     "execution_count": 19,
     "metadata": {},
     "output_type": "execute_result"
    }
   ],
   "source": [
    "app.run_get_flood_map('Floodwater_classification')"
   ]
  },
  {
   "cell_type": "code",
   "execution_count": 20,
   "metadata": {},
   "outputs": [
    {
     "data": {
      "image/png": "[encoded data removed]",
      "text/plain": [
       "<Figure size 432x288 with 1 Axes>"
      ]
     },
     "metadata": {
      "needs_background": "light"
     },
     "output_type": "display_data"
    },
    {
     "data": {
      "text/plain": [
       "<AxesSubplot:>"
      ]
     },
     "execution_count": 20,
     "metadata": {},
     "output_type": "execute_result"
    }
   ],
   "source": [
    "import rasterio\n",
    "from rasterio.plot import show\n",
    "fp = '/home/olyg/Palamas/Results/Flood_map_Palamas.tif'\n",
    "img = rasterio.open(fp)\n",
    "show(img)"
   ]
  },
  {
   "cell_type": "markdown",
   "metadata": {},
   "source": [
    "## <a id='search_download'></a>Free up disk space\n"
   ]
  },
  {
   "cell_type": "code",
   "execution_count": 21,
   "metadata": {},
   "outputs": [],
   "source": [
    "! rm *.zip"
   ]
  },
  {
   "cell_type": "markdown",
   "metadata": {},
   "source": [
    "## <a id='search_download'></a>Download Sentinel-2 using HDA API"
   ]
  },
  {
   "cell_type": "code",
   "execution_count": 22,
   "metadata": {},
   "outputs": [
    {
     "name": "stderr",
     "output_type": "stream",
     "text": [
      "proj_create: Open of /opt/conda/share/proj failed\n",
      "proj_create: init=epsg:/init=IGNF: syntax not supported in non-PROJ4 emulation mode\n",
      "Found 8 products\n"
     ]
    },
    {
     "name": "stdout",
     "output_type": "stream",
     "text": [
      "No download option is enabled. Printing the query results...\n",
      "1ecab495-0e3a-47c4-b861-3d05934bb5e6    S2A_MSIL2A_20200920T092031_N0214_R093_T34SEJ_2...\n",
      "fb796c95-e227-4fdd-8f44-e933337e97ad    S2B_MSIL2A_20200915T092029_N0214_R093_T34SEJ_2...\n",
      "02fb0b84-dcc1-45ad-9587-8d11782fe957    S2A_MSIL2A_20200910T092031_N0214_R093_T34SEJ_2...\n",
      "cdc77cc2-d783-41cd-9599-07aaaf476073    S2B_MSIL2A_20200905T092029_N0214_R093_T34SEJ_2...\n",
      "Name: title, dtype: object\n"
     ]
    }
   ],
   "source": [
    "Sentinel_2_download.Download_S2_data(\n",
    "    AOI = app.geojson_S1,\n",
    "    user = list(app.credentials.keys())[0],\n",
    "    passwd = list(app.credentials.values())[0],\n",
    "    Start_time = app.Start_time,\n",
    "    End_time = app.End_time,\n",
    "    write_dir = app.S2_dir,\n",
    "    product = 'S2MSI2A',\n",
    "    download = False,\n",
    "    cloudcoverage = 100,\n",
    "    to_file = True\n",
    ")"
   ]
  },
  {
   "cell_type": "code",
   "execution_count": 23,
   "metadata": {},
   "outputs": [
    {
     "name": "stdout",
     "output_type": "stream",
     "text": [
      "Downloading matches: 1\n",
      "S2A_MSIL2A_20200920T092031_N0214_R093_T34SEJ_20200920T115008.zip\n"
     ]
    },
    {
     "name": "stderr",
     "output_type": "stream",
     "text": [
      "Downloading https://wekeo-broker.apps.mercator.dpi.wekeo.eu/databroker/dataorder/download/mFBFBvND5zmgY6j34wl53sgNHWk to S2A_MSIL2A_20200920T092031_N0214_R093_T34SEJ_20200920T115008.zip (1.1G)\n",
      "Oops, downloaded 1186938554 byte(s), was supposed to be 1186897191 (extra 41363)\n",
      "Download rate 40M/s\n"
     ]
    },
    {
     "name": "stdout",
     "output_type": "stream",
     "text": [
      "Downloading matches: 1\n",
      "S2B_MSIL2A_20200915T092029_N0214_R093_T34SEJ_20200915T112537.zip\n"
     ]
    },
    {
     "name": "stderr",
     "output_type": "stream",
     "text": [
      "Downloading https://wekeo-broker.apps.mercator.dpi.wekeo.eu/databroker/dataorder/download/fP_4k4A57K8oSNOsV2-fOThdP8I to S2B_MSIL2A_20200915T092029_N0214_R093_T34SEJ_20200915T112537.zip (1.1G)\n",
      "Oops, downloaded 1206404445 byte(s), was supposed to be 1206366126 (extra 38319)\n",
      "Download rate 36.9M/s\n"
     ]
    },
    {
     "name": "stdout",
     "output_type": "stream",
     "text": [
      "Downloading matches: 1\n",
      "S2A_MSIL2A_20200910T092031_N0214_R093_T34SEJ_20200910T122928.zip\n"
     ]
    },
    {
     "name": "stderr",
     "output_type": "stream",
     "text": [
      "Downloading https://wekeo-broker.apps.mercator.dpi.wekeo.eu/databroker/dataorder/download/V8zYIHJFYuZEl5mAk4oUCvLrr8s to S2A_MSIL2A_20200910T092031_N0214_R093_T34SEJ_20200910T122928.zip (1.1G)\n",
      "Oops, downloaded 1217389362 byte(s), was supposed to be 1217350563 (extra 38799)\n",
      "Download rate 38.7M/s\n"
     ]
    },
    {
     "name": "stdout",
     "output_type": "stream",
     "text": [
      "Downloading matches: 1\n",
      "S2B_MSIL2A_20200905T092029_N0214_R093_T34SEJ_20200905T113748.zip\n"
     ]
    },
    {
     "name": "stderr",
     "output_type": "stream",
     "text": [
      "Downloading https://wekeo-broker.apps.mercator.dpi.wekeo.eu/databroker/dataorder/download/jWzYOFDMJX-p-SaCYRu0HQVC01c to S2B_MSIL2A_20200905T092029_N0214_R093_T34SEJ_20200905T113748.zip (1.1G)\n",
      "Oops, downloaded 1209409504 byte(s), was supposed to be 1209374417 (extra 35087)\n",
      "Download rate 38.2M/s\n"
     ]
    },
    {
     "data": {
      "text/plain": [
       "0"
      ]
     },
     "execution_count": 23,
     "metadata": {},
     "output_type": "execute_result"
    }
   ],
   "source": [
    "retrieve.S2_data(app.bbox, app.S2_dir)"
   ]
  },
  {
   "cell_type": "code",
   "execution_count": 24,
   "metadata": {},
   "outputs": [
    {
     "name": "stderr",
     "output_type": "stream",
     "text": [
      "---------------------------------------------------------------------------------------------\n",
      "Searching for Sentinel 2 Satellite data...\n",
      "Raw data found (*.SAFE file): S2B_MSIL2A_20200905T092029_N0214_R093_T34SEJ_20200905T113748.SAFE\n",
      "  - Reading /home/olyg/Palamas/Sentinel_2_imagery/S2B_MSIL2A_20200905T092029_N0214_R093_T34SEJ_20200905T113748.SAFE/MTD_MSIL2A.xml\n",
      "  - Done!\n",
      "Raw data found (*.SAFE file): S2A_MSIL2A_20200910T092031_N0214_R093_T34SEJ_20200910T122928.SAFE\n",
      "  - Reading /home/olyg/Palamas/Sentinel_2_imagery/S2A_MSIL2A_20200910T092031_N0214_R093_T34SEJ_20200910T122928.SAFE/MTD_MSIL2A.xml\n",
      "  - Done!\n",
      "Raw data found (*.SAFE file): S2B_MSIL2A_20200915T092029_N0214_R093_T34SEJ_20200915T112537.SAFE\n",
      "  - Reading /home/olyg/Palamas/Sentinel_2_imagery/S2B_MSIL2A_20200915T092029_N0214_R093_T34SEJ_20200915T112537.SAFE/MTD_MSIL2A.xml\n",
      "  - Done!\n",
      "Raw data found (*.SAFE file): S2A_MSIL2A_20200920T092031_N0214_R093_T34SEJ_20200920T115008.SAFE\n",
      "  - Reading /home/olyg/Palamas/Sentinel_2_imagery/S2A_MSIL2A_20200920T092031_N0214_R093_T34SEJ_20200920T115008.SAFE/MTD_MSIL2A.xml\n",
      "  - Done!\n",
      "---------------------------------------------------------------------------------------------\n",
      "Calculating NDVI for all time series...\n",
      "Reading /home/olyg/Palamas/Sentinel_2_imagery/S2B_MSIL2A_20200905T092029_N0214_R093_T34SEJ_20200905T113748.SAFE/GRANULE/L2A_T34SEJ_A018280_20200905T092031/IMG_DATA/R10m/T34SEJ_20200905T092029_B08_10m.jp2\n",
      "Reading /home/olyg/Palamas/Sentinel_2_imagery/S2B_MSIL2A_20200905T092029_N0214_R093_T34SEJ_20200905T113748.SAFE/GRANULE/L2A_T34SEJ_A018280_20200905T092031/IMG_DATA/R10m/T34SEJ_20200905T092029_B04_10m.jp2\n",
      "Calculating NDVI for image S2B_MSIL2A_20200905T092029_N0214_R093_T34SEJ_20200905T113748.SAFE...\n",
      "Reading array...\n"
     ]
    },
    {
     "name": "stdout",
     "output_type": "stream",
     "text": [
      "[0.077, 4.745, 4.846, 25.512]\n"
     ]
    },
    {
     "name": "stderr",
     "output_type": "stream",
     "text": [
      "Reading array...\n",
      "Saving T34SEJ_20200905T092029_NDVI.tif...\n",
      "Done!\n",
      "Reading /home/olyg/Palamas/Sentinel_2_imagery/S2A_MSIL2A_20200910T092031_N0214_R093_T34SEJ_20200910T122928.SAFE/GRANULE/L2A_T34SEJ_A027260_20200910T092343/IMG_DATA/R10m/T34SEJ_20200910T092031_B08_10m.jp2\n",
      "Reading /home/olyg/Palamas/Sentinel_2_imagery/S2A_MSIL2A_20200910T092031_N0214_R093_T34SEJ_20200910T122928.SAFE/GRANULE/L2A_T34SEJ_A027260_20200910T092343/IMG_DATA/R10m/T34SEJ_20200910T092031_B04_10m.jp2\n",
      "Calculating NDVI for image S2A_MSIL2A_20200910T092031_N0214_R093_T34SEJ_20200910T122928.SAFE...\n",
      "Reading array...\n",
      "Reading array...\n",
      "Saving T34SEJ_20200910T092031_NDVI.tif...\n",
      "Done!\n",
      "Reading /home/olyg/Palamas/Sentinel_2_imagery/S2B_MSIL2A_20200915T092029_N0214_R093_T34SEJ_20200915T112537.SAFE/GRANULE/L2A_T34SEJ_A018423_20200915T092052/IMG_DATA/R10m/T34SEJ_20200915T092029_B08_10m.jp2\n",
      "Reading /home/olyg/Palamas/Sentinel_2_imagery/S2B_MSIL2A_20200915T092029_N0214_R093_T34SEJ_20200915T112537.SAFE/GRANULE/L2A_T34SEJ_A018423_20200915T092052/IMG_DATA/R10m/T34SEJ_20200915T092029_B04_10m.jp2\n",
      "Calculating NDVI for image S2B_MSIL2A_20200915T092029_N0214_R093_T34SEJ_20200915T112537.SAFE...\n",
      "Reading array...\n",
      "Reading array...\n",
      "Saving T34SEJ_20200915T092029_NDVI.tif...\n",
      "Done!\n",
      "Reading /home/olyg/Palamas/Sentinel_2_imagery/S2A_MSIL2A_20200920T092031_N0214_R093_T34SEJ_20200920T115008.SAFE/GRANULE/L2A_T34SEJ_A027403_20200920T092033/IMG_DATA/R10m/T34SEJ_20200920T092031_B08_10m.jp2\n",
      "Reading /home/olyg/Palamas/Sentinel_2_imagery/S2A_MSIL2A_20200920T092031_N0214_R093_T34SEJ_20200920T115008.SAFE/GRANULE/L2A_T34SEJ_A027403_20200920T092033/IMG_DATA/R10m/T34SEJ_20200920T092031_B04_10m.jp2\n",
      "Calculating NDVI for image S2A_MSIL2A_20200920T092031_N0214_R093_T34SEJ_20200920T115008.SAFE...\n",
      "Reading array...\n",
      "Reading array...\n",
      "Saving T34SEJ_20200920T092031_NDVI.tif...\n",
      "Done!\n",
      "Masking band B02 for all time series with /home/olyg/Palamas/Palamas_AOI.geojson...\n",
      "Extracting /home/olyg/Palamas/Sentinel_2_imagery/S2B_MSIL2A_20200905T092029_N0214_R093_T34SEJ_20200905T113748.SAFE/GRANULE/L2A_T34SEJ_A018280_20200905T092031/IMG_DATA/R10m/T34SEJ_20200905T092029_B02_10m.jp2 by mask of inserted SHP...\n",
      "proj_create: Open of /opt/conda/share/proj failed\n",
      "proj_create: init=epsg:/init=IGNF: syntax not supported in non-PROJ4 emulation mode\n",
      "Extracting /home/olyg/Palamas/Sentinel_2_imagery/S2A_MSIL2A_20200910T092031_N0214_R093_T34SEJ_20200910T122928.SAFE/GRANULE/L2A_T34SEJ_A027260_20200910T092343/IMG_DATA/R10m/T34SEJ_20200910T092031_B02_10m.jp2 by mask of inserted SHP...\n",
      "proj_create: Open of /opt/conda/share/proj failed\n",
      "proj_create: init=epsg:/init=IGNF: syntax not supported in non-PROJ4 emulation mode\n",
      "Extracting /home/olyg/Palamas/Sentinel_2_imagery/S2B_MSIL2A_20200915T092029_N0214_R093_T34SEJ_20200915T112537.SAFE/GRANULE/L2A_T34SEJ_A018423_20200915T092052/IMG_DATA/R10m/T34SEJ_20200915T092029_B02_10m.jp2 by mask of inserted SHP...\n",
      "proj_create: Open of /opt/conda/share/proj failed\n",
      "proj_create: init=epsg:/init=IGNF: syntax not supported in non-PROJ4 emulation mode\n",
      "Extracting /home/olyg/Palamas/Sentinel_2_imagery/S2A_MSIL2A_20200920T092031_N0214_R093_T34SEJ_20200920T115008.SAFE/GRANULE/L2A_T34SEJ_A027403_20200920T092033/IMG_DATA/R10m/T34SEJ_20200920T092031_B02_10m.jp2 by mask of inserted SHP...\n",
      "proj_create: Open of /opt/conda/share/proj failed\n",
      "proj_create: init=epsg:/init=IGNF: syntax not supported in non-PROJ4 emulation mode\n",
      "Masking band B03 for all time series with /home/olyg/Palamas/Palamas_AOI.geojson...\n",
      "Extracting /home/olyg/Palamas/Sentinel_2_imagery/S2B_MSIL2A_20200905T092029_N0214_R093_T34SEJ_20200905T113748.SAFE/GRANULE/L2A_T34SEJ_A018280_20200905T092031/IMG_DATA/R10m/T34SEJ_20200905T092029_B03_10m.jp2 by mask of inserted SHP...\n",
      "proj_create: Open of /opt/conda/share/proj failed\n",
      "proj_create: init=epsg:/init=IGNF: syntax not supported in non-PROJ4 emulation mode\n",
      "Extracting /home/olyg/Palamas/Sentinel_2_imagery/S2A_MSIL2A_20200910T092031_N0214_R093_T34SEJ_20200910T122928.SAFE/GRANULE/L2A_T34SEJ_A027260_20200910T092343/IMG_DATA/R10m/T34SEJ_20200910T092031_B03_10m.jp2 by mask of inserted SHP...\n",
      "proj_create: Open of /opt/conda/share/proj failed\n",
      "proj_create: init=epsg:/init=IGNF: syntax not supported in non-PROJ4 emulation mode\n",
      "Extracting /home/olyg/Palamas/Sentinel_2_imagery/S2B_MSIL2A_20200915T092029_N0214_R093_T34SEJ_20200915T112537.SAFE/GRANULE/L2A_T34SEJ_A018423_20200915T092052/IMG_DATA/R10m/T34SEJ_20200915T092029_B03_10m.jp2 by mask of inserted SHP...\n",
      "proj_create: Open of /opt/conda/share/proj failed\n",
      "proj_create: init=epsg:/init=IGNF: syntax not supported in non-PROJ4 emulation mode\n",
      "Extracting /home/olyg/Palamas/Sentinel_2_imagery/S2A_MSIL2A_20200920T092031_N0214_R093_T34SEJ_20200920T115008.SAFE/GRANULE/L2A_T34SEJ_A027403_20200920T092033/IMG_DATA/R10m/T34SEJ_20200920T092031_B03_10m.jp2 by mask of inserted SHP...\n",
      "proj_create: Open of /opt/conda/share/proj failed\n",
      "proj_create: init=epsg:/init=IGNF: syntax not supported in non-PROJ4 emulation mode\n",
      "Masking band B04 for all time series with /home/olyg/Palamas/Palamas_AOI.geojson...\n",
      "Extracting /home/olyg/Palamas/Sentinel_2_imagery/S2B_MSIL2A_20200905T092029_N0214_R093_T34SEJ_20200905T113748.SAFE/GRANULE/L2A_T34SEJ_A018280_20200905T092031/IMG_DATA/R10m/T34SEJ_20200905T092029_B04_10m.jp2 by mask of inserted SHP...\n",
      "proj_create: Open of /opt/conda/share/proj failed\n",
      "proj_create: init=epsg:/init=IGNF: syntax not supported in non-PROJ4 emulation mode\n",
      "Extracting /home/olyg/Palamas/Sentinel_2_imagery/S2A_MSIL2A_20200910T092031_N0214_R093_T34SEJ_20200910T122928.SAFE/GRANULE/L2A_T34SEJ_A027260_20200910T092343/IMG_DATA/R10m/T34SEJ_20200910T092031_B04_10m.jp2 by mask of inserted SHP...\n",
      "proj_create: Open of /opt/conda/share/proj failed\n",
      "proj_create: init=epsg:/init=IGNF: syntax not supported in non-PROJ4 emulation mode\n",
      "Extracting /home/olyg/Palamas/Sentinel_2_imagery/S2B_MSIL2A_20200915T092029_N0214_R093_T34SEJ_20200915T112537.SAFE/GRANULE/L2A_T34SEJ_A018423_20200915T092052/IMG_DATA/R10m/T34SEJ_20200915T092029_B04_10m.jp2 by mask of inserted SHP...\n",
      "proj_create: Open of /opt/conda/share/proj failed\n",
      "proj_create: init=epsg:/init=IGNF: syntax not supported in non-PROJ4 emulation mode\n",
      "Extracting /home/olyg/Palamas/Sentinel_2_imagery/S2A_MSIL2A_20200920T092031_N0214_R093_T34SEJ_20200920T115008.SAFE/GRANULE/L2A_T34SEJ_A027403_20200920T092033/IMG_DATA/R10m/T34SEJ_20200920T092031_B04_10m.jp2 by mask of inserted SHP...\n",
      "proj_create: Open of /opt/conda/share/proj failed\n",
      "proj_create: init=epsg:/init=IGNF: syntax not supported in non-PROJ4 emulation mode\n",
      "Masking band B08 for all time series with /home/olyg/Palamas/Palamas_AOI.geojson...\n",
      "Extracting /home/olyg/Palamas/Sentinel_2_imagery/S2B_MSIL2A_20200905T092029_N0214_R093_T34SEJ_20200905T113748.SAFE/GRANULE/L2A_T34SEJ_A018280_20200905T092031/IMG_DATA/R10m/T34SEJ_20200905T092029_B08_10m.jp2 by mask of inserted SHP...\n",
      "proj_create: Open of /opt/conda/share/proj failed\n",
      "proj_create: init=epsg:/init=IGNF: syntax not supported in non-PROJ4 emulation mode\n",
      "Extracting /home/olyg/Palamas/Sentinel_2_imagery/S2A_MSIL2A_20200910T092031_N0214_R093_T34SEJ_20200910T122928.SAFE/GRANULE/L2A_T34SEJ_A027260_20200910T092343/IMG_DATA/R10m/T34SEJ_20200910T092031_B08_10m.jp2 by mask of inserted SHP...\n",
      "proj_create: Open of /opt/conda/share/proj failed\n",
      "proj_create: init=epsg:/init=IGNF: syntax not supported in non-PROJ4 emulation mode\n",
      "Extracting /home/olyg/Palamas/Sentinel_2_imagery/S2B_MSIL2A_20200915T092029_N0214_R093_T34SEJ_20200915T112537.SAFE/GRANULE/L2A_T34SEJ_A018423_20200915T092052/IMG_DATA/R10m/T34SEJ_20200915T092029_B08_10m.jp2 by mask of inserted SHP...\n",
      "proj_create: Open of /opt/conda/share/proj failed\n",
      "proj_create: init=epsg:/init=IGNF: syntax not supported in non-PROJ4 emulation mode\n",
      "Extracting /home/olyg/Palamas/Sentinel_2_imagery/S2A_MSIL2A_20200920T092031_N0214_R093_T34SEJ_20200920T115008.SAFE/GRANULE/L2A_T34SEJ_A027403_20200920T092033/IMG_DATA/R10m/T34SEJ_20200920T092031_B08_10m.jp2 by mask of inserted SHP...\n",
      "proj_create: Open of /opt/conda/share/proj failed\n",
      "proj_create: init=epsg:/init=IGNF: syntax not supported in non-PROJ4 emulation mode\n",
      "Masking band B11 for all time series with /home/olyg/Palamas/Palamas_AOI.geojson...\n",
      "Extracting /home/olyg/Palamas/Sentinel_2_imagery/S2B_MSIL2A_20200905T092029_N0214_R093_T34SEJ_20200905T113748.SAFE/GRANULE/L2A_T34SEJ_A018280_20200905T092031/IMG_DATA/R20m/T34SEJ_20200905T092029_B11_20m.jp2 by mask of inserted SHP and resample to 10 meters resolution...\n",
      "proj_create: Open of /opt/conda/share/proj failed\n",
      "proj_create: init=epsg:/init=IGNF: syntax not supported in non-PROJ4 emulation mode\n",
      "Extracting /home/olyg/Palamas/Sentinel_2_imagery/S2A_MSIL2A_20200910T092031_N0214_R093_T34SEJ_20200910T122928.SAFE/GRANULE/L2A_T34SEJ_A027260_20200910T092343/IMG_DATA/R20m/T34SEJ_20200910T092031_B11_20m.jp2 by mask of inserted SHP and resample to 10 meters resolution...\n",
      "proj_create: Open of /opt/conda/share/proj failed\n",
      "proj_create: init=epsg:/init=IGNF: syntax not supported in non-PROJ4 emulation mode\n",
      "Extracting /home/olyg/Palamas/Sentinel_2_imagery/S2B_MSIL2A_20200915T092029_N0214_R093_T34SEJ_20200915T112537.SAFE/GRANULE/L2A_T34SEJ_A018423_20200915T092052/IMG_DATA/R20m/T34SEJ_20200915T092029_B11_20m.jp2 by mask of inserted SHP and resample to 10 meters resolution...\n",
      "proj_create: Open of /opt/conda/share/proj failed\n",
      "proj_create: init=epsg:/init=IGNF: syntax not supported in non-PROJ4 emulation mode\n",
      "Extracting /home/olyg/Palamas/Sentinel_2_imagery/S2A_MSIL2A_20200920T092031_N0214_R093_T34SEJ_20200920T115008.SAFE/GRANULE/L2A_T34SEJ_A027403_20200920T092033/IMG_DATA/R20m/T34SEJ_20200920T092031_B11_20m.jp2 by mask of inserted SHP and resample to 10 meters resolution...\n",
      "proj_create: Open of /opt/conda/share/proj failed\n",
      "proj_create: init=epsg:/init=IGNF: syntax not supported in non-PROJ4 emulation mode\n",
      "Masking band B12 for all time series with /home/olyg/Palamas/Palamas_AOI.geojson...\n",
      "Extracting /home/olyg/Palamas/Sentinel_2_imagery/S2B_MSIL2A_20200905T092029_N0214_R093_T34SEJ_20200905T113748.SAFE/GRANULE/L2A_T34SEJ_A018280_20200905T092031/IMG_DATA/R20m/T34SEJ_20200905T092029_B12_20m.jp2 by mask of inserted SHP and resample to 10 meters resolution...\n",
      "proj_create: Open of /opt/conda/share/proj failed\n",
      "proj_create: init=epsg:/init=IGNF: syntax not supported in non-PROJ4 emulation mode\n",
      "Extracting /home/olyg/Palamas/Sentinel_2_imagery/S2A_MSIL2A_20200910T092031_N0214_R093_T34SEJ_20200910T122928.SAFE/GRANULE/L2A_T34SEJ_A027260_20200910T092343/IMG_DATA/R20m/T34SEJ_20200910T092031_B12_20m.jp2 by mask of inserted SHP and resample to 10 meters resolution...\n",
      "proj_create: Open of /opt/conda/share/proj failed\n",
      "proj_create: init=epsg:/init=IGNF: syntax not supported in non-PROJ4 emulation mode\n",
      "Extracting /home/olyg/Palamas/Sentinel_2_imagery/S2B_MSIL2A_20200915T092029_N0214_R093_T34SEJ_20200915T112537.SAFE/GRANULE/L2A_T34SEJ_A018423_20200915T092052/IMG_DATA/R20m/T34SEJ_20200915T092029_B12_20m.jp2 by mask of inserted SHP and resample to 10 meters resolution...\n",
      "proj_create: Open of /opt/conda/share/proj failed\n",
      "proj_create: init=epsg:/init=IGNF: syntax not supported in non-PROJ4 emulation mode\n",
      "Extracting /home/olyg/Palamas/Sentinel_2_imagery/S2A_MSIL2A_20200920T092031_N0214_R093_T34SEJ_20200920T115008.SAFE/GRANULE/L2A_T34SEJ_A027403_20200920T092033/IMG_DATA/R20m/T34SEJ_20200920T092031_B12_20m.jp2 by mask of inserted SHP and resample to 10 meters resolution...\n",
      "proj_create: Open of /opt/conda/share/proj failed\n",
      "proj_create: init=epsg:/init=IGNF: syntax not supported in non-PROJ4 emulation mode\n",
      "Masking band SCL for all time series with /home/olyg/Palamas/Palamas_AOI.geojson...\n",
      "Extracting /home/olyg/Palamas/Sentinel_2_imagery/S2B_MSIL2A_20200905T092029_N0214_R093_T34SEJ_20200905T113748.SAFE/GRANULE/L2A_T34SEJ_A018280_20200905T092031/IMG_DATA/R20m/T34SEJ_20200905T092029_SCL_20m.jp2 by mask of inserted SHP and resample to 10 meters resolution...\n",
      "proj_create: Open of /opt/conda/share/proj failed\n",
      "proj_create: init=epsg:/init=IGNF: syntax not supported in non-PROJ4 emulation mode\n",
      "Extracting /home/olyg/Palamas/Sentinel_2_imagery/S2A_MSIL2A_20200910T092031_N0214_R093_T34SEJ_20200910T122928.SAFE/GRANULE/L2A_T34SEJ_A027260_20200910T092343/IMG_DATA/R20m/T34SEJ_20200910T092031_SCL_20m.jp2 by mask of inserted SHP and resample to 10 meters resolution...\n",
      "proj_create: Open of /opt/conda/share/proj failed\n",
      "proj_create: init=epsg:/init=IGNF: syntax not supported in non-PROJ4 emulation mode\n",
      "Extracting /home/olyg/Palamas/Sentinel_2_imagery/S2B_MSIL2A_20200915T092029_N0214_R093_T34SEJ_20200915T112537.SAFE/GRANULE/L2A_T34SEJ_A018423_20200915T092052/IMG_DATA/R20m/T34SEJ_20200915T092029_SCL_20m.jp2 by mask of inserted SHP and resample to 10 meters resolution...\n",
      "proj_create: Open of /opt/conda/share/proj failed\n",
      "proj_create: init=epsg:/init=IGNF: syntax not supported in non-PROJ4 emulation mode\n",
      "Extracting /home/olyg/Palamas/Sentinel_2_imagery/S2A_MSIL2A_20200920T092031_N0214_R093_T34SEJ_20200920T115008.SAFE/GRANULE/L2A_T34SEJ_A027403_20200920T092033/IMG_DATA/R20m/T34SEJ_20200920T092031_SCL_20m.jp2 by mask of inserted SHP and resample to 10 meters resolution...\n",
      "proj_create: Open of /opt/conda/share/proj failed\n",
      "proj_create: init=epsg:/init=IGNF: syntax not supported in non-PROJ4 emulation mode\n",
      "Masking band NDVI for all time series with /home/olyg/Palamas/Palamas_AOI.geojson...\n",
      "Extracting /home/olyg/Palamas/Sentinel_2_imagery/S2B_MSIL2A_20200905T092029_N0214_R093_T34SEJ_20200905T113748.SAFE/GRANULE/L2A_T34SEJ_A018280_20200905T092031/IMG_DATA/R10m/T34SEJ_20200905T092029_NDVI.tif by mask of inserted SHP...\n",
      "proj_create: Open of /opt/conda/share/proj failed\n",
      "proj_create: init=epsg:/init=IGNF: syntax not supported in non-PROJ4 emulation mode\n",
      "Extracting /home/olyg/Palamas/Sentinel_2_imagery/S2A_MSIL2A_20200910T092031_N0214_R093_T34SEJ_20200910T122928.SAFE/GRANULE/L2A_T34SEJ_A027260_20200910T092343/IMG_DATA/R10m/T34SEJ_20200910T092031_NDVI.tif by mask of inserted SHP...\n",
      "proj_create: Open of /opt/conda/share/proj failed\n",
      "proj_create: init=epsg:/init=IGNF: syntax not supported in non-PROJ4 emulation mode\n",
      "Extracting /home/olyg/Palamas/Sentinel_2_imagery/S2B_MSIL2A_20200915T092029_N0214_R093_T34SEJ_20200915T112537.SAFE/GRANULE/L2A_T34SEJ_A018423_20200915T092052/IMG_DATA/R10m/T34SEJ_20200915T092029_NDVI.tif by mask of inserted SHP...\n",
      "proj_create: Open of /opt/conda/share/proj failed\n",
      "proj_create: init=epsg:/init=IGNF: syntax not supported in non-PROJ4 emulation mode\n",
      "Extracting /home/olyg/Palamas/Sentinel_2_imagery/S2A_MSIL2A_20200920T092031_N0214_R093_T34SEJ_20200920T115008.SAFE/GRANULE/L2A_T34SEJ_A027403_20200920T092033/IMG_DATA/R10m/T34SEJ_20200920T092031_NDVI.tif by mask of inserted SHP...\n",
      "proj_create: Open of /opt/conda/share/proj failed\n",
      "proj_create: init=epsg:/init=IGNF: syntax not supported in non-PROJ4 emulation mode\n",
      "proj_create: Open of /opt/conda/share/proj failed\n",
      "proj_create: init=epsg:/init=IGNF: syntax not supported in non-PROJ4 emulation mode\n",
      "proj_create: Open of /opt/conda/share/proj failed\n",
      "proj_create: init=epsg:/init=IGNF: syntax not supported in non-PROJ4 emulation mode\n"
     ]
    },
    {
     "data": {
      "application/vnd.jupyter.widget-view+json": {
       "model_id": "c23c2be6e5b84c31a094b814bdfe3d52",
       "version_major": 2,
       "version_minor": 0
      },
      "text/plain": [
       "HBox(children=(HTML(value=''), FloatProgress(value=0.0, max=1.0), HTML(value='')))"
      ]
     },
     "metadata": {},
     "output_type": "display_data"
    },
    {
     "name": "stdout",
     "output_type": "stream",
     "text": [
      "\n"
     ]
    },
    {
     "name": "stderr",
     "output_type": "stream",
     "text": [
      "Reading /home/olyg/Palamas/Sentinel_2_imagery/S2B_MSIL2A_20200905T092029_N0214_R093_T34SEJ_20200905T113748.SAFE/GRANULE/L2A_T34SEJ_A018280_20200905T092031/IMG_DATA/R10m/T34SEJ_20200905T092029_NDVI_masked.tif\n",
      "Reading /home/olyg/Palamas/Sentinel_2_imagery/S2A_MSIL2A_20200910T092031_N0214_R093_T34SEJ_20200910T122928.SAFE/GRANULE/L2A_T34SEJ_A027260_20200910T092343/IMG_DATA/R10m/T34SEJ_20200910T092031_NDVI_masked.tif\n",
      "Reading /home/olyg/Palamas/Sentinel_2_imagery/S2B_MSIL2A_20200915T092029_N0214_R093_T34SEJ_20200915T112537.SAFE/GRANULE/L2A_T34SEJ_A018423_20200915T092052/IMG_DATA/R10m/T34SEJ_20200915T092029_NDVI_masked.tif\n",
      "Reading /home/olyg/Palamas/Sentinel_2_imagery/S2A_MSIL2A_20200920T092031_N0214_R093_T34SEJ_20200920T115008.SAFE/GRANULE/L2A_T34SEJ_A027403_20200920T092033/IMG_DATA/R10m/T34SEJ_20200920T092031_NDVI_masked.tif\n"
     ]
    },
    {
     "name": "stdout",
     "output_type": "stream",
     "text": [
      "Resample monthly max...\n"
     ]
    },
    {
     "name": "stderr",
     "output_type": "stream",
     "text": [
      "2022-08-31 19:45:42.711688: W tensorflow/stream_executor/platform/default/dso_loader.cc:64] Could not load dynamic library 'libcuda.so.1'; dlerror: libcuda.so.1: cannot open shared object file: No such file or directory\n",
      "2022-08-31 19:45:42.727140: W tensorflow/stream_executor/cuda/cuda_driver.cc:269] failed call to cuInit: UNKNOWN ERROR (303)\n",
      "2022-08-31 19:45:42.727223: I tensorflow/stream_executor/cuda/cuda_diagnostics.cc:156] kernel driver does not appear to be running on this host (jupyter-olyg): /proc/driver/nvidia/version does not exist\n",
      "2022-08-31 19:45:42.746344: I tensorflow/core/platform/cpu_feature_guard.cc:142] This TensorFlow binary is optimized with oneAPI Deep Neural Network Library (oneDNN) to use the following CPU instructions in performance-critical operations:  AVX2 FMA\n",
      "To enable them in other operations, rebuild TensorFlow with the appropriate compiler flags.\n",
      "  0%|          | 0/4 [00:00<?, ?it/s]"
     ]
    },
    {
     "name": "stdout",
     "output_type": "stream",
     "text": [
      "Running pretrained model...\n"
     ]
    },
    {
     "name": "stderr",
     "output_type": "stream",
     "text": [
      "2022-08-31 19:45:44.112281: I tensorflow/compiler/mlir/mlir_graph_optimization_pass.cc:185] None of the MLIR Optimization Passes are enabled (registered 2)\n",
      "100%|██████████| 4/4 [00:35<00:00,  8.96s/it]\n",
      "proj_create: Open of /opt/conda/share/proj failed\n",
      "proj_create: init=epsg:/init=IGNF: syntax not supported in non-PROJ4 emulation mode\n"
     ]
    },
    {
     "name": "stdout",
     "output_type": "stream",
     "text": [
      "Saving result...\n",
      "Running delineation...\n",
      "Running flooded fields estimation procedure...\n"
     ]
    },
    {
     "name": "stderr",
     "output_type": "stream",
     "text": [
      "proj_create: Open of /opt/conda/share/proj failed\n",
      "proj_create: init=epsg:/init=IGNF: syntax not supported in non-PROJ4 emulation mode\n"
     ]
    },
    {
     "data": {
      "text/plain": [
       "0"
      ]
     },
     "execution_count": 24,
     "metadata": {},
     "output_type": "execute_result"
    }
   ],
   "source": [
    "app.run_crop_delineation('Crop_delineation')"
   ]
  },
  {
   "cell_type": "code",
   "execution_count": null,
   "metadata": {},
   "outputs": [],
   "source": []
  }
 ],
 "metadata": {
  "kernelspec": {
   "display_name": "Python 3 (ipykernel)",
   "language": "python",
   "name": "python3"
  },
  "language_info": {
   "codemirror_mode": {
    "name": "ipython",
    "version": 3
   },
   "file_extension": ".py",
   "mimetype": "text/x-python",
   "name": "python",
   "nbconvert_exporter": "python",
   "pygments_lexer": "ipython3",
   "version": "3.8.6"
  },
  "vscode": {
   "interpreter": {
    "hash": "2cbd12cf15904f49236868e52223ac6dba66d2e1778b7a5fa8a6c3a2f0b40e11"
   }
  }
 },
 "nbformat": 4,
 "nbformat_minor": 4
}
