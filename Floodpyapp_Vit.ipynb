{
 "cells": [
  {
   "cell_type": "markdown",
   "metadata": {},
   "source": [
    "**Authors:**  Kleanthis Karamvasis <br>\n",
    "**Copyright:** 2024 Kleanthis Karamvasis <br>\n",
    "**License:** GPLv3"
   ]
  },
  {
   "cell_type": "markdown",
   "metadata": {},
   "source": [
    "<div class=\"alert alert-block alert-success\">\n",
    "<h3>FLOODPY: Mapping flooded regions of Daniel Flood event Greece, September 2023 </h3></div>"
   ]
  },
  {
   "cell_type": "markdown",
   "metadata": {},
   "source": [
    "<div class=\"alert alert-block alert-warning\">\n",
    "\n",
    "### Important:\n",
    "<font size=\"3\"> Before running this notebook, please make sure that \n",
    "- you have successufully <b>created</b> floodpy_gpu conda environment based on [FLOODPY_gpu_env](FLOODPY_gpu_env.yml)\n",
    "- you have <b>activated</b> the floodpy_gpu conda environment for running this notebook \n",
    "- you have downloaded Floodvit model from https://www.dropbox.com/scl/fi/srw7u4cw1gtxrf4xzmsh7/floodvit.pt?rlkey=snskpq1qrdav5u2jya8k2bocg&e=1&dl=0\n",
    "</font>\n",
    "\n",
    "<font size=\"5\"> You will have to **manually** select one of the available datetimes to calculate your flood map\n",
    "\n",
    "</div>"
   ]
  },
  {
   "cell_type": "markdown",
   "metadata": {},
   "source": [
    "# NOTEBOOK INTRODUCTION\n",
    "\n",
    "### Data used\n",
    "\n",
    "| Product Name | Description | Usage | Access Link |\n",
    "|:--------------------:|:-----------------:|:-----------------:|:-----------------:|\n",
    "| ERA5 | ERA5 is the fifth generation ECMWF reanalysis for the global climate and weather for the past 4 to 7 decades. ERA5 provides hourly estimates for a large number of atmospheric, ocean-wave and land-surface quantities. Data has been regridded to a regular lat-lon grid of 0.25 degrees for the reanalysis. ERA5 is updated daily with a latency of about 5 days. | Precipitation | <a href=\"https://cds.climate.copernicus.eu/cdsapp#!/dataset/reanalysis-era5-single-levels\" target=\"_blank\">link</a> |\n",
    "| Sentinel-1 GRD | The Sentinel-1 mission comprises a constellation of two polar-orbiting satellites, operating day and night performing C-band synthetic aperture radar imaging, enabling them to acquire imagery regardless of the weather. | Backscatter changes | <a href=\"https://dataspace.copernicus.eu/\" target=\"_blank\">link</a> |"
   ]
  },
  {
   "cell_type": "markdown",
   "metadata": {},
   "source": [
    "### Learning outcomes\n",
    "\n",
    "At the end of this notebook you will be able to identify flooded regions from Sentinel-1 data using FloodPy. Be aware that the estimated run time of the notebook depends on your **area of interest**, your **temporal span of interest** and your network **download speed**."
   ]
  },
  {
   "cell_type": "markdown",
   "metadata": {},
   "source": [
    "### Outline\n",
    "<font size=\"3\">\n",
    "Floods are considered the second gravest disaster for the agricultural sector. The increasing intensity and the frequency of flood events can result to significant yield losses. In the present notebook, we present a <b>ViT-based (Visual Transformer) approach</b> (Bountos et al., 2023) to extract flooded area based on multitemporal Sentinel-1 intensity observations.\n",
    "<br>\n",
    "    \n",
    "The FLOODPY - <b>FLOOD PYthon toolbox</b> is a free and open-source python toolbox for mapping of floodwater. FLOODPY requires a specified time of interest related to the flood event and corresponding geographical boundaries. We believe that the produced maps with delineated flood-affected agricultural fields can be helpful for governments, insurers and disaster response agencies to improve flood risk assessment, relief targeting, and ultimately to protect climate-vulnerable communities from floods. \n",
    "\n",
    "References:\n",
    "\n",
    "<font size=\"2\">\n",
    "    \n",
    "Bountos, N. I., Sdraka, M., Zavras, A., Karasante, I., Karavias, A., Herekakis, T., ... & Papoutsis, I. (2023). Kuro Siwo: 12.1 billion $ m^ 2$ under the water. A global multi-temporal satellite dataset for rapid flood mapping. arXiv preprint [paper link](https://arxiv.org/abs/2311.12056) [github link](https://github.com/Orion-AI-Lab/KuroSiwo)\n"
   ]
  },
  {
   "cell_type": "markdown",
   "metadata": {},
   "source": [
    "<div class=\"alert alert-info\" role=\"alert\">\n",
    "    \n",
    "## <a id='TOC_TOP'></a>Contents\n",
    "\n",
    "</div>\n",
    "    \n",
    "[1. Flood event description](#section1)\n",
    "\n",
    "[2. Set input arguments for FLOODPY](#section2)\n",
    "\n",
    "[3. Estimation of Flooded Area](#section3)\n",
    "\n",
    "[4. Interactive Plotting](#section4)\n",
    "\n",
    "<hr>"
   ]
  },
  {
   "cell_type": "markdown",
   "metadata": {},
   "source": [
    "<div class=\"alert alert-info\" role=\"alert\">\n",
    "\n",
    "## <a id='section1'></a>1. Flood event description\n",
    "[Back to top](#TOC_TOP)\n",
    "\n",
    "</div>\n"
   ]
  },
  {
   "cell_type": "markdown",
   "metadata": {},
   "source": [
    "In September 2023 large areas in the Mediterranean were affected by Storm Daniel. On 5-7 September 2023 Thessaly experienced extreme rainfall followed by extensive floods, resulting in the loss of human lives, livestock, harvests, land and assets. The flooding was a sudden-onset event as the floods occurred very fast.\n",
    "\n",
    "More information: https://european-flood.emergency.copernicus.eu/en/news/storm-daniel-affects-greece-bulgaria-and-turkiye-september-2023 \n",
    "\n"
   ]
  },
  {
   "cell_type": "markdown",
   "metadata": {},
   "source": [
    "<div class=\"alert alert-info\" role=\"alert\">\n",
    "\n",
    "## <a id='section2'></a>2. Set input parameters for FLOODPY\n",
    "[Back to top](#TOC_TOP)\n",
    "\n",
    "</div>\n"
   ]
  },
  {
   "cell_type": "code",
   "execution_count": 1,
   "metadata": {},
   "outputs": [],
   "source": [
    "# The path of your project. Make sure you have enough free space disk on the specific location.\n",
    "projectfolder = '/home/kleanthis/Projects/Thessalia_Floods_2023'\n",
    "\n",
    "# The location of floodpy code \n",
    "src_dir = '/home/kleanthis/Projects/FLOODPY/floodpy/'\n",
    "\n",
    "# SNAP ORBIT DIRECTORY\n",
    "snap_orbit_dir = '/home/kleanthis/.snap/auxdata/Orbits/Sentinel-1'\n",
    "\n",
    "# SNAP GPT full path\n",
    "GPTBIN_PATH = '/home/kleanthis/snap9/bin/gpt'\n",
    "\n",
    "# The start and end datetimes for Pre-flood time span and flood time span (Format is YYYYMMDDTHHMMSS in UTC)\n",
    "pre_flood_start = '20230701T030000'\n",
    "pre_flood_end = '20230903T030000'\n",
    "flood_start = '20230903T030000'\n",
    "flood_end = '20230909T030000'\n",
    "\n",
    "# Flood event spatial information \n",
    "# - You can provide AOI VECTOR FILE or AOI BBOX. \n",
    "# - Please ensure that your AOI BBOX has dimensions smaller than 100km x 100km\n",
    "# - If you provide AOI VECTOR, AOI BBOX parameters will be ommited\n",
    "# - In case you provide AOI BBOX coordinates, set  AOI_File = None\n",
    "\n",
    "# AOI VECTOR FILE (if given AOI BBOX parameters can be ommited)\n",
    "AOI_File = \"None\"\n",
    "\n",
    "# AOI BBOX (WGS84)\n",
    "LONMIN = 21.82\n",
    "LATMIN = 39.35\n",
    "LONMAX = 22.30\n",
    "LATMAX = 39.65\n",
    "\n",
    "# Data access and processing\n",
    "# The number of Sentinel-1 relative orbit. The default \n",
    "#       value is Auto. Auto means that the relative orbit that has\n",
    "#       the Sentinel-1 image closer to the Flood_datetime is selected. \n",
    "#       S1_type can be GRD or SLC.\n",
    "relOrbit = 'Auto' \n",
    "\n",
    "# The minimum mapping unit area in square meters\n",
    "minimum_mapping_unit_area_m2=4000\n",
    "\n",
    "# Computing resources to employ\n",
    "CPU=8\n",
    "RAM='20G'\n",
    "\n",
    "# Credentials for Sentinel-1/2 downloading\n",
    "Copernicus_username = 'Floodmappingteam@gmail.com'\n",
    "Copernicus_password = '!!2024Floodpy'"
   ]
  },
  {
   "cell_type": "markdown",
   "metadata": {},
   "source": [
    "<div class=\"alert alert-block alert-warning\">\n",
    "\n",
    "#### Important: <font size=\"3\"> Please provide the path of the Floodvit model [link](https://www.dropbox.com/scl/fi/srw7u4cw1gtxrf4xzmsh7/floodvit.pt?rlkey=snskpq1qrdav5u2jya8k2bocg&e=1&dl=0)</font></div>"
   ]
  },
  {
   "cell_type": "code",
   "execution_count": 2,
   "metadata": {},
   "outputs": [],
   "source": [
    "ViT_model_filename = '/home/kleanthis/Projects/Thessalia_Floods_2023/Vit_model/floodvit.pt'"
   ]
  },
  {
   "cell_type": "code",
   "execution_count": 3,
   "metadata": {},
   "outputs": [],
   "source": [
    "params_dict = {'projectfolder':projectfolder,\n",
    "            'src_dir' : src_dir,\n",
    "            'snap_orbit_dir' : snap_orbit_dir,\n",
    "            'GPTBIN_PATH' : GPTBIN_PATH,\n",
    "            'pre_flood_start' : pre_flood_start,\n",
    "            'pre_flood_end' : pre_flood_end,\n",
    "            'flood_start' : flood_start,\n",
    "            'flood_end' : flood_end,\n",
    "            'AOI_File' : AOI_File,\n",
    "            'LONMIN' : LONMIN,\n",
    "            'LATMIN' : LATMIN,\n",
    "            'LONMAX' : LONMAX,\n",
    "            'LATMAX' : LATMAX,\n",
    "            'relOrbit' : relOrbit,\n",
    "            'minimum_mapping_unit_area_m2' : minimum_mapping_unit_area_m2,\n",
    "            'CPU' : CPU,\n",
    "            'RAM' : RAM,\n",
    "            'Copernicus_username' : Copernicus_username,\n",
    "            'Copernicus_password' : Copernicus_password,\n",
    "            }"
   ]
  },
  {
   "cell_type": "markdown",
   "metadata": {},
   "source": [
    "<div class=\"alert alert-info\" role=\"alert\">\n",
    "\n",
    "## <a id='section2'></a>3. Estimation of Flooded Area using Sentinel-1 data\n",
    "[Back to top](#TOC_TOP)\n",
    "</div>"
   ]
  },
  {
   "cell_type": "markdown",
   "metadata": {},
   "source": [
    "### <a id='search_download'></a> Insert Python Modules"
   ]
  },
  {
   "cell_type": "code",
   "execution_count": 4,
   "metadata": {},
   "outputs": [],
   "source": [
    "import xarray as xr\n",
    "\n",
    "# FLOODPY libraries\n",
    "from floodpy.FLOODPYapp import FloodwaterEstimation"
   ]
  },
  {
   "cell_type": "markdown",
   "metadata": {},
   "source": [
    "### <a id='search_download'></a> Start up"
   ]
  },
  {
   "cell_type": "code",
   "execution_count": 5,
   "metadata": {},
   "outputs": [],
   "source": [
    "Floodpy_app = FloodwaterEstimation(params_dict = params_dict)"
   ]
  },
  {
   "cell_type": "markdown",
   "metadata": {},
   "source": [
    "### Donwload Landcover"
   ]
  },
  {
   "cell_type": "code",
   "execution_count": 6,
   "metadata": {},
   "outputs": [],
   "source": [
    "Floodpy_app.download_landcover_data()"
   ]
  },
  {
   "cell_type": "markdown",
   "metadata": {},
   "source": [
    "### <a id='search_download'></a> Downloading Precipitation from ERA5 model\n"
   ]
  },
  {
   "cell_type": "markdown",
   "metadata": {},
   "source": [
    "Based on given temporal range, ERA5 dataset is retrieved for 20 days before the flood event and 3 dates after the flood event. The defined area of interest is used to spatially subset the dataset."
   ]
  },
  {
   "cell_type": "code",
   "execution_count": null,
   "metadata": {},
   "outputs": [],
   "source": [
    "Floodpy_app.download_ERA5_Precipitation_data()"
   ]
  },
  {
   "cell_type": "code",
   "execution_count": null,
   "metadata": {},
   "outputs": [],
   "source": [
    "Floodpy_app.plot_ERA5_precipitation_data()"
   ]
  },
  {
   "cell_type": "markdown",
   "metadata": {},
   "source": [
    "### <a id='search_download'></a> Download Sentinel-1 data"
   ]
  },
  {
   "cell_type": "code",
   "execution_count": null,
   "metadata": {},
   "outputs": [],
   "source": [
    "Floodpy_app.query_S1_data()\n",
    "print('The available dates for flood mapping are: \\n --> {}'.format('\\n --> '.join(map(str, Floodpy_app.flood_candidate_dates))))"
   ]
  },
  {
   "cell_type": "markdown",
   "metadata": {},
   "source": [
    "<div class=\"alert alert-block alert-warning\">\n",
    "\n",
    "#### Important: <font size=\"3\"> Please provide ONE of the availables dates for flood mapping</font></div>"
   ]
  },
  {
   "cell_type": "code",
   "execution_count": 10,
   "metadata": {},
   "outputs": [],
   "source": [
    "sel_flood_date = '2023-09-06T04:39:47.096000000'"
   ]
  },
  {
   "cell_type": "code",
   "execution_count": null,
   "metadata": {},
   "outputs": [],
   "source": [
    "Floodpy_app.sel_S1_data(sel_flood_date)"
   ]
  },
  {
   "cell_type": "code",
   "execution_count": null,
   "metadata": {},
   "outputs": [],
   "source": [
    "Floodpy_app.download_S1_GRD_products()"
   ]
  },
  {
   "cell_type": "code",
   "execution_count": null,
   "metadata": {},
   "outputs": [],
   "source": [
    "Floodpy_app.download_S1_orbits()"
   ]
  },
  {
   "cell_type": "markdown",
   "metadata": {},
   "source": [
    "### Preprocessing Sentinel-1 data\n",
    "\n",
    "- Orbit correction\n",
    "- Coregistration\n",
    "- Subsetting\n",
    "- Radiometric Calibration\n",
    "- Geocoding"
   ]
  },
  {
   "cell_type": "code",
   "execution_count": 13,
   "metadata": {},
   "outputs": [],
   "source": [
    "Floodpy_app.create_S1_stack(overwrite=False)"
   ]
  },
  {
   "cell_type": "code",
   "execution_count": 14,
   "metadata": {},
   "outputs": [],
   "source": [
    "S1_stack = xr.open_dataset(Floodpy_app.S1_stack_filename)\n",
    "#S1_stack['VV_dB'].drop_duplicates(dim=...).plot(x=\"x\", y=\"y\", col=\"time\", col_wrap=3, vmin=-22, vmax=5)"
   ]
  },
  {
   "cell_type": "markdown",
   "metadata": {},
   "source": [
    "### Calculate Elevation slope and mask"
   ]
  },
  {
   "cell_type": "code",
   "execution_count": 15,
   "metadata": {},
   "outputs": [],
   "source": [
    "Floodpy_app.calc_slope()\n",
    "DEM_slope_stack = xr.open_dataset(Floodpy_app.DEM_slope_filename)\n",
    "# DEM_slope_stack['DEM'].plot()\n",
    "# DEM_slope_stack['slope'].plot()\n",
    "# DEM_slope_stack['slope_mask'].plot()"
   ]
  },
  {
   "cell_type": "markdown",
   "metadata": {},
   "source": [
    "### Calculate Flooded regions"
   ]
  },
  {
   "cell_type": "code",
   "execution_count": null,
   "metadata": {},
   "outputs": [],
   "source": [
    "Floodpy_app.calc_flooded_regions_ViT(ViT_model_filename = ViT_model_filename, device = 'cuda', generate_vector = True, overwrite = True)"
   ]
  },
  {
   "cell_type": "markdown",
   "metadata": {},
   "source": [
    "### Interactive plotting"
   ]
  },
  {
   "cell_type": "code",
   "execution_count": null,
   "metadata": {},
   "outputs": [],
   "source": [
    "Floodpy_app.plot_flood_map()\n",
    "Floodpy_app.interactive_map"
   ]
  }
 ],
 "metadata": {
  "kernelspec": {
   "display_name": "pytorch",
   "language": "python",
   "name": "python3"
  },
  "language_info": {
   "codemirror_mode": {
    "name": "ipython",
    "version": 3
   },
   "file_extension": ".py",
   "mimetype": "text/x-python",
   "name": "python",
   "nbconvert_exporter": "python",
   "pygments_lexer": "ipython3",
   "version": "3.8.17"
  }
 },
 "nbformat": 4,
 "nbformat_minor": 2
}
